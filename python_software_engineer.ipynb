{
  "nbformat": 4,
  "nbformat_minor": 0,
  "metadata": {
    "colab": {
      "provenance": [],
      "authorship_tag": "ABX9TyMF3M7wsKEXB+k/fJqdiZbY"
    },
    "kernelspec": {
      "name": "python3",
      "display_name": "Python 3"
    },
    "language_info": {
      "name": "python"
    }
  },
  "cells": [
    {
      "cell_type": "code",
      "source": [
        "#ppt link\n",
        "https://docs.google.com/presentation/d/1l6jsw_PRE-gW0L7T3G1ypgD6tJfRLksk/edit?usp=sharing&ouid=117890779147383632394&rtpof=true&sd=true\n"
      ],
      "metadata": {
        "id": "AeHRaSaI1HPY"
      },
      "execution_count": null,
      "outputs": []
    },
    {
      "cell_type": "code",
      "execution_count": null,
      "metadata": {
        "colab": {
          "base_uri": "https://localhost:8080/"
        },
        "id": "WWf7ODOtqwnq",
        "outputId": "d1d4f697-b5ad-4dc8-f6ed-baeee122ef25"
      },
      "outputs": [
        {
          "output_type": "stream",
          "name": "stdout",
          "text": [
            "Hellow\n"
          ]
        }
      ],
      "source": [
        "#this first program\n",
        "print(\"Hellow\") #this first program"
      ]
    },
    {
      "cell_type": "code",
      "source": [
        "#introducing variable\n",
        "a = \"Hellow\"\n",
        "print(a)"
      ],
      "metadata": {
        "colab": {
          "base_uri": "https://localhost:8080/"
        },
        "id": "_Lv3da4ws04P",
        "outputId": "0ee1b19d-6859-4aad-ff77-74c85d4f6dc1"
      },
      "execution_count": null,
      "outputs": [
        {
          "output_type": "stream",
          "name": "stdout",
          "text": [
            "Hellow\n"
          ]
        }
      ]
    },
    {
      "cell_type": "code",
      "source": [
        "#camel case\n",
        "helloGreetings = \"Camel Case\"\n",
        "print(helloGreetings)"
      ],
      "metadata": {
        "colab": {
          "base_uri": "https://localhost:8080/"
        },
        "id": "Xd9gmfJzuCWh",
        "outputId": "e7689c82-0be5-47c5-b0d3-36ba1e7b0bc5"
      },
      "execution_count": null,
      "outputs": [
        {
          "output_type": "stream",
          "name": "stdout",
          "text": [
            "Camel Case\n"
          ]
        }
      ]
    },
    {
      "cell_type": "code",
      "source": [
        "#pascal case\n",
        "HelloGreetings = 'pascal Case'\n",
        "print(HelloGreetings)"
      ],
      "metadata": {
        "colab": {
          "base_uri": "https://localhost:8080/"
        },
        "id": "HJas5_Lnue6F",
        "outputId": "8dc14fc0-4732-48e0-eacf-9f4caee482b1"
      },
      "execution_count": null,
      "outputs": [
        {
          "output_type": "stream",
          "name": "stdout",
          "text": [
            "pascal Case\n"
          ]
        }
      ]
    },
    {
      "cell_type": "code",
      "source": [
        "#snake\n",
        "hello_greetings =\"snake Case\"\n",
        "print(hello_greetings)"
      ],
      "metadata": {
        "colab": {
          "base_uri": "https://localhost:8080/"
        },
        "id": "OVWM6Twjuq-K",
        "outputId": "d099b84c-e816-42f6-a574-ad15fb43ec19"
      },
      "execution_count": null,
      "outputs": [
        {
          "output_type": "stream",
          "name": "stdout",
          "text": [
            "snake Case\n"
          ]
        }
      ]
    },
    {
      "cell_type": "code",
      "source": [
        "#data Types\n",
        "string_variable_type1 = \"This is string 1\"\n",
        "string_variable_type2 = '10'\n",
        "int_variable = 10\n",
        "float_variable = 20.64\n",
        "complex_variable = 3+2j\n",
        "list_variable = [1,\"string 1\",5,6,\"string 2\"]\n",
        "dict_variable = {\"emp id\":123,\"emp Name\":\"XYZ\",\"emp age\": 36}\n",
        "tuple_variable = (\"string\",\"string\",1,3)\n",
        "boolean_variable = True\n",
        "\n",
        "print(type(string_variable_type1))\n",
        "print(type(string_variable_type2))\n",
        "print(type(int_variable))\n",
        "print(type(float_variable))\n",
        "print(type(complex_variable))\n",
        "print(type(list_variable))\n",
        "\n"
      ],
      "metadata": {
        "colab": {
          "base_uri": "https://localhost:8080/"
        },
        "id": "VCOTypEYxUrR",
        "outputId": "9b89b4ca-9d31-4ef2-f435-204121eff3f7"
      },
      "execution_count": null,
      "outputs": [
        {
          "output_type": "stream",
          "name": "stdout",
          "text": [
            "<class 'str'>\n",
            "<class 'str'>\n",
            "<class 'int'>\n",
            "<class 'float'>\n",
            "<class 'complex'>\n",
            "<class 'list'>\n"
          ]
        }
      ]
    },
    {
      "cell_type": "code",
      "source": [
        "list_variable = [1,\"string 1\",5,6,\"string 2\"]\n",
        "\n",
        "#update list variable\n",
        "list_variable[0] = 2\n",
        "print(list_variable)\n",
        "\n",
        "#adding element to list variable\n",
        "list_variable.append(1)\n",
        "print(list_variable)\n",
        "\n",
        "#removing element from list variable\n",
        "list_variable.remove(6)\n",
        "print(list_variable)"
      ],
      "metadata": {
        "id": "3N842Ygh2MLU",
        "colab": {
          "base_uri": "https://localhost:8080/"
        },
        "outputId": "2543a22e-d9e5-4c81-ff46-71d8e781a196"
      },
      "execution_count": null,
      "outputs": [
        {
          "output_type": "stream",
          "name": "stdout",
          "text": [
            "[2, 'string 1', 5, 6, 'string 2']\n",
            "[2, 'string 1', 5, 6, 'string 2', 1]\n",
            "[2, 'string 1', 5, 'string 2', 1]\n"
          ]
        }
      ]
    },
    {
      "cell_type": "code",
      "source": [
        "dict_variable = {\"emp id\":123,\"emp Name\":\"XYZ\",\"emp age\": 36}\n",
        "\n",
        "#update Dict variable\n",
        "dict_variable['emp Name'] = \"ABC\"\n",
        "print(dict_variable)\n",
        "\n",
        "#adding element in Dictionary\n",
        "dict_variable['empType'] = \"Programmer\"\n",
        "print(dict_variable)\n",
        "\n",
        "#removing element from Dictionary\n",
        "dict_variable.pop('empType')\n",
        "print(dict_variable)"
      ],
      "metadata": {
        "colab": {
          "base_uri": "https://localhost:8080/"
        },
        "id": "W-hcjh9x3D3m",
        "outputId": "6438ad17-9864-4d40-dcca-780db6337495"
      },
      "execution_count": null,
      "outputs": [
        {
          "output_type": "stream",
          "name": "stdout",
          "text": [
            "{'emp id': 123, 'emp Name': 'ABC', 'emp age': 36}\n"
          ]
        }
      ]
    },
    {
      "cell_type": "code",
      "source": [
        "tuple_variable = (\"string\",\"string\",1,3)\n",
        "#adding values to tuple\n",
        "tuple_variable = tuple_variable +(4,5)\n",
        "print(tuple_variable)\n",
        "\n",
        "#deleting element from tuple\n",
        "# del tuple_variable\n",
        "# print(tuple_variable)\n",
        "#error updating tuple\n",
        "# tuple_variable[0] = 23\n",
        "# print(tuple_variable)"
      ],
      "metadata": {
        "id": "4Hz7JkMF3fW2"
      },
      "execution_count": null,
      "outputs": []
    },
    {
      "cell_type": "code",
      "source": [
        "#multi diamentional list\n",
        "lst_var = [[1,2,3],[5,6,7]]\n",
        "print(lst_var[1])"
      ],
      "metadata": {
        "colab": {
          "base_uri": "https://localhost:8080/"
        },
        "id": "vcdayw3I4CF_",
        "outputId": "8795e18d-a3db-41be-c43f-bb13dddfcd28"
      },
      "execution_count": null,
      "outputs": [
        {
          "output_type": "stream",
          "name": "stdout",
          "text": [
            "[5, 6, 7]\n"
          ]
        }
      ]
    },
    {
      "cell_type": "code",
      "source": [
        "#input variable\n",
        "input_var = input(\"Enter your Greetings:\")\n",
        "print(input_var)\n",
        "print(type(input_var))"
      ],
      "metadata": {
        "colab": {
          "base_uri": "https://localhost:8080/"
        },
        "id": "jlOPgDdo52IJ",
        "outputId": "915a8c23-723e-4903-c575-a0db9a594de8"
      },
      "execution_count": null,
      "outputs": [
        {
          "output_type": "stream",
          "name": "stdout",
          "text": [
            "Enter your Greetings:10\n",
            "10\n",
            "<class 'str'>\n"
          ]
        }
      ]
    },
    {
      "cell_type": "code",
      "source": [
        "a = int(input(\"first number:\"))\n",
        "b = int(input(\"second number:\"))\n",
        "c = a+b\n",
        "print(c)"
      ],
      "metadata": {
        "colab": {
          "base_uri": "https://localhost:8080/"
        },
        "id": "mvUdqZUe7G9j",
        "outputId": "1feb253f-c0b3-497b-e4f5-36c17032c84a"
      },
      "execution_count": null,
      "outputs": [
        {
          "output_type": "stream",
          "name": "stdout",
          "text": [
            "first number:3\n",
            "second number:4\n",
            "7\n"
          ]
        }
      ]
    },
    {
      "cell_type": "code",
      "source": [
        "#arithmetic operation\n",
        "print(10+3)\n",
        "print(10-3)\n",
        "print(10*3)\n",
        "print(10/3)\n",
        "#modulus\n",
        "print(10%3)\n",
        "#floor division\n",
        "print(10//3)\n",
        "#exponent\n",
        "print(10**3)\n"
      ],
      "metadata": {
        "colab": {
          "base_uri": "https://localhost:8080/"
        },
        "id": "I_gR8mQoDWmG",
        "outputId": "cd355220-e984-45b5-930b-181e778a6ebe"
      },
      "execution_count": null,
      "outputs": [
        {
          "output_type": "stream",
          "name": "stdout",
          "text": [
            "13\n",
            "7\n",
            "30\n",
            "3.3333333333333335\n",
            "1\n",
            "3\n",
            "1000\n"
          ]
        }
      ]
    },
    {
      "cell_type": "code",
      "source": [
        "#comparison\n",
        "a = \"string\"\n",
        "print(a == \"String\")\n",
        "print(a != \"String\")\n",
        "b = 10\n",
        "print(b > 5)\n",
        "print(b < 3)\n",
        "print(b >= 5)\n",
        "print(b <= 3)"
      ],
      "metadata": {
        "colab": {
          "base_uri": "https://localhost:8080/"
        },
        "id": "BZ_-nuKk-dtg",
        "outputId": "64f63c5c-7e01-4559-ffb4-4ad40d021f4d"
      },
      "execution_count": null,
      "outputs": [
        {
          "output_type": "stream",
          "name": "stdout",
          "text": [
            "False\n",
            "True\n",
            "True\n",
            "False\n",
            "True\n",
            "False\n"
          ]
        }
      ]
    },
    {
      "cell_type": "code",
      "source": [
        "#assignment operator\n",
        "a = 10\n",
        "a += 1\n",
        "print(a)\n",
        "a -=1\n",
        "print(a)\n",
        "a *= 2\n",
        "print(a)\n",
        "a /= 2\n",
        "print(a)"
      ],
      "metadata": {
        "colab": {
          "base_uri": "https://localhost:8080/"
        },
        "id": "0jWFHB3O_P4N",
        "outputId": "d2618379-affc-4f02-ee5c-75a56a3cd8c1"
      },
      "execution_count": null,
      "outputs": [
        {
          "output_type": "stream",
          "name": "stdout",
          "text": [
            "11\n",
            "10\n",
            "20\n",
            "10.0\n"
          ]
        }
      ]
    },
    {
      "cell_type": "code",
      "source": [
        "#logical\n",
        "a = 10\n",
        "print(a > 5 and a< 11)\n",
        "print(a > 20 or a >30)"
      ],
      "metadata": {
        "colab": {
          "base_uri": "https://localhost:8080/"
        },
        "id": "x97XXu2M_sLh",
        "outputId": "403c80cb-575f-4943-9ae5-2ec5d05b5ddf"
      },
      "execution_count": null,
      "outputs": [
        {
          "output_type": "stream",
          "name": "stdout",
          "text": [
            "True\n",
            "False\n"
          ]
        }
      ]
    },
    {
      "cell_type": "code",
      "source": [
        "#membership operator\n",
        "a = 10\n",
        "b = [1,2,5,6,10,11,20]\n",
        "str_variable = \"welcome to ootty\"\n",
        "c = \"string\"\n",
        "print(c in str_variable)\n",
        "b.append(30)\n",
        "print(b[-2])\n",
        "print(len(b))\n",
        "print(a in b)\n",
        "print (a not in b)"
      ],
      "metadata": {
        "colab": {
          "base_uri": "https://localhost:8080/"
        },
        "id": "p6Zdxquo_-uV",
        "outputId": "ed4d8152-e937-4f8a-f121-7c98ee3015cf"
      },
      "execution_count": null,
      "outputs": [
        {
          "output_type": "stream",
          "name": "stdout",
          "text": [
            "False\n",
            "20\n",
            "8\n",
            "True\n",
            "False\n"
          ]
        }
      ]
    },
    {
      "cell_type": "code",
      "source": [
        "#identity operator\n",
        "a = [1,2,3,4,5]\n",
        "b= [6,7,8,9,10]\n",
        "c = a\n",
        "print(a is b)\n",
        "print(c is a)\n",
        "print( c is not a)"
      ],
      "metadata": {
        "id": "qgt2a8hQBcTK"
      },
      "execution_count": null,
      "outputs": []
    },
    {
      "cell_type": "code",
      "source": [
        "#operator precedence\n",
        "x = 20+3*2\n",
        "print(x)\n",
        "y = (20+3)*2\n",
        "print(y)"
      ],
      "metadata": {
        "colab": {
          "base_uri": "https://localhost:8080/"
        },
        "id": "f5rzCTSjSRSa",
        "outputId": "46469a30-38bd-4bf8-d58e-8a6bd4630a20"
      },
      "execution_count": null,
      "outputs": [
        {
          "output_type": "stream",
          "name": "stdout",
          "text": [
            "26\n",
            "46\n"
          ]
        }
      ]
    },
    {
      "cell_type": "code",
      "source": [
        "#control statements\n",
        "#if statement\n",
        "amount = int(input(\"Enter the amount:\"))\n",
        "if amount > 2000 and amount <5000:\n",
        "  discount = amount *.01\n",
        "  amount = amount - discount\n",
        "print(amount)"
      ],
      "metadata": {
        "colab": {
          "base_uri": "https://localhost:8080/"
        },
        "id": "lIfvScR5SUCE",
        "outputId": "5b376ee3-a877-4581-e93e-238d7a50c548"
      },
      "execution_count": null,
      "outputs": [
        {
          "output_type": "stream",
          "name": "stdout",
          "text": [
            "Enter the amount:2000\n",
            "2000\n"
          ]
        }
      ]
    },
    {
      "cell_type": "code",
      "source": [
        "#if else statement\n",
        "amount = int(input(\"enter the amount:\"))\n",
        "if amount >5000:\n",
        "  discount = amount*.20\n",
        "  amount = amount -  discount\n",
        "else:\n",
        "  discount = amount * 0.10\n",
        "  amount = amount - discount\n",
        "print(amount)"
      ],
      "metadata": {
        "colab": {
          "base_uri": "https://localhost:8080/"
        },
        "id": "6NZcejtuSYmr",
        "outputId": "d2c98756-2317-4dc3-d644-9205bb362733"
      },
      "execution_count": null,
      "outputs": [
        {
          "output_type": "stream",
          "name": "stdout",
          "text": [
            "enter the amount:6000\n",
            "4800.0\n"
          ]
        }
      ]
    },
    {
      "cell_type": "code",
      "source": [
        "#nested if statements\n",
        "amount = int(input(\"Enter the amount:\"))\n",
        "\n",
        "if amount > 5000:\n",
        "  discount = amount * .20\n",
        "  amount = amount - discount\n",
        "else:\n",
        "  if amount > 2000 and amount < 5000:\n",
        "    discount = amount * .10\n",
        "    amount = amount - discount\n",
        "  else:\n",
        "    if amount > 1000 and amount < 2000:\n",
        "      discount = amount * 0.05\n",
        "      amount = amount - discount\n",
        "    else:\n",
        "      amount = amount\n",
        "print(amount)"
      ],
      "metadata": {
        "colab": {
          "base_uri": "https://localhost:8080/"
        },
        "id": "Se0AyBU8Satc",
        "outputId": "6a6e2b46-0064-4d04-e360-e597d75e10c6"
      },
      "execution_count": null,
      "outputs": [
        {
          "output_type": "stream",
          "name": "stdout",
          "text": [
            "Enter the amount:1500\n",
            "1425.0\n"
          ]
        }
      ]
    },
    {
      "cell_type": "code",
      "source": [
        "#if elif else statement\n",
        "amount = int(input(\"Enter the amount:\"))\n",
        "\n",
        "if amount >= 5000:\n",
        "  discount = amount * .20\n",
        "  amount = amount - discount\n",
        "elif amount >=2000 and amount < 5000:\n",
        "  discount = amount * .10\n",
        "  amount = amount - discount\n",
        "elif amount >= 1000 and amount < 2000:\n",
        "  discount = amount *.05\n",
        "  amount = amount - discount\n",
        "else:\n",
        "  amount = amount\n",
        "print(amount)"
      ],
      "metadata": {
        "colab": {
          "base_uri": "https://localhost:8080/"
        },
        "id": "uH-4kKWXSeII",
        "outputId": "24b0e42a-44c9-4114-ef1a-feb36e01c709"
      },
      "execution_count": null,
      "outputs": [
        {
          "output_type": "stream",
          "name": "stdout",
          "text": [
            "Enter the amount:2000\n",
            "1800.0\n"
          ]
        }
      ]
    },
    {
      "cell_type": "code",
      "source": [
        "#match case statement\n",
        "day = int(input(\"Enter the number for day of week:\"))\n",
        "\n",
        "match day:\n",
        "  case 1: print(\"Monday\")\n",
        "  case 2: print(\"Tuesday\")\n",
        "  case 3: print(\"Wednesday\")\n",
        "  case 4: print(\"Thursday\")\n",
        "  case 5: print(\"Friday\")\n",
        "  case 6: print(\"Saturday\")\n",
        "  case 7: print(\"Sunday\")"
      ],
      "metadata": {
        "colab": {
          "base_uri": "https://localhost:8080/"
        },
        "id": "V2l0rccdSaw0",
        "outputId": "1ce199f0-108a-4fb2-cde1-7b68939712bb"
      },
      "execution_count": null,
      "outputs": [
        {
          "output_type": "stream",
          "name": "stdout",
          "text": [
            "Enter the number for day of week:6\n",
            "Saturday\n"
          ]
        }
      ]
    },
    {
      "cell_type": "code",
      "source": [
        "#calculator\n",
        "first_number = int(input(\"Enter the first Number:\"))\n",
        "second_number = int(input(\"Enter the second Number:\"))\n",
        "command = input(\"Enter the command(add,sub,mul,div):\")\n",
        "command = command.lower()\n",
        "if command == \"add\":\n",
        "  c = first_number + second_number\n",
        "  print(f\"Addition:{c}\")\n",
        "elif command == \"sub\":\n",
        "  c = first_number - second_number\n",
        "  print(f\"Subtraction:{c}\")\n",
        "elif command == \"mul\":\n",
        "  c = first_number * second_number\n",
        "  print(f\"Multiplication:{c}\")\n",
        "elif command == \"div\":\n",
        "  c = first_number / second_number\n",
        "  print(f\"division:{c}\")\n",
        "else:\n",
        "  print(\"Invalid Command\")"
      ],
      "metadata": {
        "colab": {
          "base_uri": "https://localhost:8080/"
        },
        "id": "8h69zJ9jDHy2",
        "outputId": "a702bce6-a93a-41fc-fb45-2e4a6875e4b2"
      },
      "execution_count": null,
      "outputs": [
        {
          "output_type": "stream",
          "name": "stdout",
          "text": [
            "Enter the first Number:2\n",
            "Enter the second Number:3\n",
            "Enter the command(add,sub,mul,div):mul\n",
            "Multiplication:6\n"
          ]
        }
      ]
    },
    {
      "cell_type": "code",
      "source": [
        "#loop- for loop\n",
        "\n",
        "list_var = [1,2,3,4,5]\n",
        "for x in list_var:\n",
        "  print(x**3)\n",
        "\n",
        "for letter in \"Pthon\":\n",
        "  print(letter)"
      ],
      "metadata": {
        "id": "4VUEW8eJSj4E"
      },
      "execution_count": null,
      "outputs": []
    },
    {
      "cell_type": "code",
      "source": [
        "print(\"Hello\" *2)"
      ],
      "metadata": {
        "colab": {
          "base_uri": "https://localhost:8080/"
        },
        "id": "kcwPkuBZP3az",
        "outputId": "a1de188a-fa48-4dad-f913-288d5e4aab79"
      },
      "execution_count": null,
      "outputs": [
        {
          "output_type": "stream",
          "name": "stdout",
          "text": [
            "HelloHello\n"
          ]
        }
      ]
    },
    {
      "cell_type": "code",
      "source": [
        "#for loop\n",
        "for x in range(10):\n",
        "  print(x)\n",
        "\n",
        "for x in range(1,10):\n",
        "  print(x)\n",
        "\n",
        "for x in range(1,10,2):\n",
        "  print(x)\n",
        "\n",
        "for x in range(1,10):\n",
        "  print(\"*\" * x)\n",
        "for x in range(10):\n",
        "  print(str(x) * x)"
      ],
      "metadata": {
        "id": "q5280UhKO0XP"
      },
      "execution_count": null,
      "outputs": []
    },
    {
      "cell_type": "code",
      "source": [
        "#while loop\n",
        "#Repeatedly execute target statements as long as given boolean expression is true\n",
        "#syntax:\n",
        "#while expression:\n",
        "  #statements\n",
        "count = 0\n",
        "while count < 5:\n",
        "  print(count)\n",
        "  count += 1\n",
        "print(\"Good Bye\")\n",
        "\n",
        "var = 1\n",
        "while var == 1:\n",
        "  num = int(input(\"enter a number:\"))\n",
        "  print(f\"Entered Number{num}\")\n",
        "\n",
        "while True:\n",
        "  num = int(input(\"enter a number:\"))\n",
        "  print(f\"Entered Number{num}\")\n"
      ],
      "metadata": {
        "id": "LzHkATunSmU0"
      },
      "execution_count": null,
      "outputs": []
    },
    {
      "cell_type": "code",
      "source": [
        "#break Statement\n",
        "#used to terminate the current loop\n",
        "#and resumes next set of statements\n",
        "\n",
        "condition = True\n",
        "while condition:\n",
        "  num = int(input(\"enter a number:\"))\n",
        "  print(f\"Entered Number{num}\")\n",
        "  var = int(input(\"Do want to continue if yes enter 1 if no enter 0:\"))\n",
        "  if var == 1:\n",
        "    pass\n",
        "  else:\n",
        "    break\n",
        "print(\"Good Bye\")"
      ],
      "metadata": {
        "colab": {
          "base_uri": "https://localhost:8080/"
        },
        "id": "j4YxtjaUDN_R",
        "outputId": "e67d7f8c-6635-4511-ee24-0862369d7018"
      },
      "execution_count": null,
      "outputs": [
        {
          "output_type": "stream",
          "name": "stdout",
          "text": [
            "enter a number:2\n",
            "Entered Number2\n",
            "Do want to continue if yes enter 1 if no enter 0:1\n",
            "enter a number:5\n",
            "Entered Number5\n",
            "Do want to continue if yes enter 1 if no enter 0:1\n",
            "enter a number:7\n",
            "Entered Number7\n",
            "Do want to continue if yes enter 1 if no enter 0:8\n",
            "Good Bye\n"
          ]
        }
      ]
    },
    {
      "cell_type": "code",
      "source": [
        "#continue statement\n",
        "#skip the set of statement and continue from begining\n",
        "for letter in \"Python\":\n",
        "  if letter == 'h':\n",
        "    continue\n",
        "  print(letter)"
      ],
      "metadata": {
        "colab": {
          "base_uri": "https://localhost:8080/"
        },
        "id": "RG8Kxkp_E5oV",
        "outputId": "6420a9de-5462-42a7-816b-7a63ecdc4fd6"
      },
      "execution_count": null,
      "outputs": [
        {
          "output_type": "stream",
          "name": "stdout",
          "text": [
            "P\n",
            "y\n",
            "t\n",
            "o\n",
            "n\n"
          ]
        }
      ]
    },
    {
      "cell_type": "code",
      "source": [
        "#pass Statement\n",
        "#used when do not want a code to execute\n",
        "for letter in \"Python\":\n",
        "  if letter == 'h':\n",
        "    pass\n",
        "  print(letter)\n",
        "print(\"Good Bye\")\n"
      ],
      "metadata": {
        "colab": {
          "base_uri": "https://localhost:8080/"
        },
        "id": "bjbBjvWlE8PV",
        "outputId": "27f1b716-060d-45b1-a2d4-ebeaa0a4f88e"
      },
      "execution_count": null,
      "outputs": [
        {
          "output_type": "stream",
          "name": "stdout",
          "text": [
            "P\n",
            "y\n",
            "t\n",
            "h\n",
            "o\n",
            "n\n",
            "Good Bye\n"
          ]
        }
      ]
    },
    {
      "cell_type": "code",
      "source": [
        "#calculator\n",
        "while True:\n",
        "  first_number = int(input(\"Enter the first Number:\"))\n",
        "  second_number = int(input(\"Enter the second Number:\"))\n",
        "  command = input(\"Enter the command(add,sub,mul,div):\")\n",
        "  command = command.lower()\n",
        "  if command == \"add\":\n",
        "    c = first_number + second_number\n",
        "    print(f\"Addition:{c}\")\n",
        "  elif command == \"sub\":\n",
        "    c = first_number - second_number\n",
        "    print(f\"Subtraction:{c}\")\n",
        "  elif command == \"mul\":\n",
        "    c = first_number * second_number\n",
        "    print(f\"Multiplication:{c}\")\n",
        "  elif command == \"div\":\n",
        "    c = first_number / second_number\n",
        "    print(f\"division:{c}\")\n",
        "  else:\n",
        "    print(\"Invalid Command\")\n",
        "  con = input(\"Do You want to continue?\")\n",
        "  if con == 'y':\n",
        "    pass\n",
        "  else:\n",
        "    break"
      ],
      "metadata": {
        "colab": {
          "base_uri": "https://localhost:8080/"
        },
        "id": "KEJFuHR7IxBD",
        "outputId": "55618b64-5e72-4982-9da3-ee8c7e8dde62"
      },
      "execution_count": null,
      "outputs": [
        {
          "name": "stdout",
          "output_type": "stream",
          "text": [
            "Enter the first Number:2\n",
            "Enter the second Number:3\n",
            "Enter the command(add,sub,mul,div):add\n",
            "Addition:5\n",
            "Do You want to continue?y\n",
            "Enter the first Number:2\n",
            "Enter the second Number:1\n",
            "Enter the command(add,sub,mul,div):sub\n",
            "Subtraction:1\n",
            "Do You want to continue?m\n"
          ]
        }
      ]
    },
    {
      "cell_type": "code",
      "source": [
        "#nested loop\n",
        "#one or more loop with in a loop statement"
      ],
      "metadata": {
        "id": "FZjKxp0EGM6m"
      },
      "execution_count": null,
      "outputs": []
    },
    {
      "cell_type": "code",
      "source": [
        "#python Functions - block of organised,reusable codes\n",
        "# Function blocks begin with the keyword \"def\"\n",
        "# followed by the \"function name\" and parentheses \"( )\" .\n",
        "# The code block within every function starts with a colon (:) and is indented.\n",
        "# Any input parameters or arguments should be placed within these parentheses.\n",
        "# You can also define parameters inside these parentheses.\n",
        "# The statement return [expression] exits a function,\n",
        "# optionally passing back an expression to the caller.\n",
        "# A return statement with no arguments is the same as return None."
      ],
      "metadata": {
        "id": "X8-LwPyEGzDu"
      },
      "execution_count": null,
      "outputs": []
    },
    {
      "cell_type": "code",
      "source": [],
      "metadata": {
        "colab": {
          "base_uri": "https://localhost:8080/"
        },
        "id": "uEDd77LTK0_E",
        "outputId": "bde8e31a-c3ba-4ff9-9494-905e78cbbcad"
      },
      "execution_count": null,
      "outputs": [
        {
          "output_type": "stream",
          "name": "stdout",
          "text": [
            "hello\n"
          ]
        }
      ]
    },
    {
      "cell_type": "code",
      "source": [
        "#first function - greetings\n",
        "def greetings():\n",
        "  print(\"hello\")\n",
        "\n",
        "greetings()\n",
        "greetings()"
      ],
      "metadata": {
        "colab": {
          "base_uri": "https://localhost:8080/"
        },
        "id": "UyS-6MZeJaUz",
        "outputId": "cca06bbd-b2d9-43ac-e59a-91b8534198a3"
      },
      "execution_count": null,
      "outputs": [
        {
          "output_type": "stream",
          "name": "stdout",
          "text": [
            "hello\n",
            "hello\n"
          ]
        }
      ]
    },
    {
      "cell_type": "code",
      "source": [
        "#passing argument in greeting function\n",
        "def greetings(name, age):\n",
        "  print(f\"hello {name}\")\n",
        "  print(f\"your age is {age}\")\n",
        "\n",
        "greetings(36,\"Vivek\")\n",
        "greetings(\"ABC\",23)\n",
        "greetings(\"xyz\",17)"
      ],
      "metadata": {
        "colab": {
          "base_uri": "https://localhost:8080/"
        },
        "id": "Odkv3M-9JfMd",
        "outputId": "154294c2-da1b-423c-bed9-e7374f4dba0b"
      },
      "execution_count": null,
      "outputs": [
        {
          "output_type": "stream",
          "name": "stdout",
          "text": [
            "hello 36\n",
            "your age is Vivek\n",
            "hello ABC\n",
            "your age is 23\n",
            "hello xyz\n",
            "your age is 17\n"
          ]
        }
      ]
    },
    {
      "cell_type": "code",
      "source": [
        "#positional or required argument\n",
        "def greetings(name, age):\n",
        "  print(f\"hello {name}\")\n",
        "  print(f\"your age is {age}\")\n",
        "\n",
        "greetings(36,\"Vivek\")\n",
        "greetings(\"ABC\",23)\n",
        "greetings(\"xyz\",17)"
      ],
      "metadata": {
        "id": "yGCEzxSeLa0H"
      },
      "execution_count": null,
      "outputs": []
    },
    {
      "cell_type": "code",
      "source": [
        "#key word argument\n",
        "def greetings(name, age):\n",
        "  print(f\"hello {name}\")\n",
        "  print(f\"your age is {age}\")\n",
        "\n",
        "greetings( age = 36,name = \"Vivek\")"
      ],
      "metadata": {
        "colab": {
          "base_uri": "https://localhost:8080/"
        },
        "id": "7au0AqCXKeuy",
        "outputId": "537c4e30-1932-4760-e9f1-54e64266e8b9"
      },
      "execution_count": null,
      "outputs": [
        {
          "output_type": "stream",
          "name": "stdout",
          "text": [
            "hello Vivek\n",
            "your age is 36\n"
          ]
        }
      ]
    },
    {
      "cell_type": "code",
      "source": [
        "#default argument\n",
        "def greetings(name, age = 27):\n",
        "  print(f\"hello {name}\")\n",
        "  print(f\"your age is {age}\")\n",
        "\n",
        "greetings( name = \"Vivek\")"
      ],
      "metadata": {
        "colab": {
          "base_uri": "https://localhost:8080/"
        },
        "id": "kNzOxKyGLdf6",
        "outputId": "416f067b-f377-4bce-a281-a72206bda66f"
      },
      "execution_count": null,
      "outputs": [
        {
          "output_type": "stream",
          "name": "stdout",
          "text": [
            "hello Vivek\n",
            "your age is 27\n"
          ]
        }
      ]
    },
    {
      "cell_type": "code",
      "source": [
        "#retrn statement\n",
        "def addition(a,b):\n",
        "\n",
        "  return a+b\n",
        "\n",
        "var1 = addition(3,4)\n",
        "var2 = addition(5,6)\n",
        "print(var1,var2)"
      ],
      "metadata": {
        "colab": {
          "base_uri": "https://localhost:8080/"
        },
        "id": "J74No8c-Pwh5",
        "outputId": "90b440be-be42-462d-d15e-ab7ab99a200d"
      },
      "execution_count": null,
      "outputs": [
        {
          "output_type": "stream",
          "name": "stdout",
          "text": [
            "7 11\n"
          ]
        }
      ]
    },
    {
      "cell_type": "code",
      "source": [
        "#arbitrary argument\n",
        "def greetings(*args):\n",
        "  for argument in args:\n",
        "    print(argument)\n",
        "greetings(\"Hi\",\"There\")\n",
        "\n",
        "#example -2\n",
        "def addition(*args):\n",
        "  sum_val = 0\n",
        "  for val in args:\n",
        "    sum_val += val\n",
        "  return sum_val\n",
        "\n",
        "print(addition(3,4,5))"
      ],
      "metadata": {
        "colab": {
          "base_uri": "https://localhost:8080/"
        },
        "id": "FD5an8zB_o_7",
        "outputId": "ad761bae-a14e-4595-9b0a-a81c1f2fb6fd"
      },
      "execution_count": null,
      "outputs": [
        {
          "output_type": "stream",
          "name": "stdout",
          "text": [
            "Hi\n",
            "There\n",
            "12\n"
          ]
        }
      ]
    },
    {
      "cell_type": "code",
      "source": [
        "#calculator without return\n",
        "def add(fn,sn):\n",
        "  print(fn+sn)\n",
        "def sub(fn,sn):\n",
        "  print(fn-sn)\n",
        "def mul(fn,sn):\n",
        "  print(fn*sn)\n",
        "def div(fn,sn):\n",
        "  print(fn/sn)\n",
        "while True:\n",
        "  f_n = int(input(\"Enter the first No:\"))\n",
        "  s_n = int(input(\"Enter the second No:\"))\n",
        "  cmd = input(\"Enter the command(add,sub,mul,div)\")\n",
        "  cmd = cmd.lower()\n",
        "  if cmd == \"add\": add(sn = s_n,fn = f_n)\n",
        "  elif cmd == \"sub\" : sub(f_n,s_n)\n",
        "  elif cmd == \"mul\" : mul(f_n,s_n)\n",
        "  elif cmd == \"div\" : div(f_n,s_n)\n",
        "  else: print(\"invalid cmd\")\n",
        "  option = input(\"Do you wan to continue Y/N:\")\n",
        "  option.lower()\n",
        "  if option == 'y':\n",
        "    pass\n",
        "\n",
        "  else:\n",
        "    break"
      ],
      "metadata": {
        "colab": {
          "base_uri": "https://localhost:8080/"
        },
        "id": "Cc-mcSlIVV_Q",
        "outputId": "f9ec7b12-0ad2-4c41-cadc-a2f44a04eb9f"
      },
      "execution_count": null,
      "outputs": [
        {
          "name": "stdout",
          "output_type": "stream",
          "text": [
            "Enter the first No:1\n",
            "Enter the second No:2\n",
            "Enter the command(add,sub,mul,div)add\n",
            "3\n",
            "Do you wan to continue Y/N:y\n",
            "Enter the first No:2\n",
            "Enter the second No:3\n",
            "Enter the command(add,sub,mul,div)mul\n",
            "6\n",
            "Do you wan to continue Y/N:n\n"
          ]
        }
      ]
    },
    {
      "cell_type": "code",
      "source": [
        "#calculator with return\n",
        "def add(fn,sn):\n",
        "  return (fn+sn)\n",
        "def sub(fn,sn):\n",
        "  return (fn-sn)\n",
        "def mul(fn,sn):\n",
        "  return (fn*sn)\n",
        "def div(fn,sn):\n",
        "  return (fn/sn)\n",
        "while True:\n",
        "  f_n = int(input(\"Enter the first No:\"))\n",
        "  s_n = int(input(\"Enter the second No:\"))\n",
        "  cmd = input(\"Enter the command(add,sub,mul,div)\")\n",
        "  cmd = cmd.lower()\n",
        "  if cmd == \"add\":\n",
        "    sum = add(f_n,s_n)\n",
        "    print(sum)\n",
        "  elif cmd == \"sub\" :\n",
        "    print(sub(f_n,s_n))\n",
        "  elif cmd == \"mul\" :\n",
        "    print(mul(f_n,s_n))\n",
        "  elif cmd == \"div\" :\n",
        "    print(div(f_n,s_n))\n",
        "  else:\n",
        "    print(\"invalid cmd\")\n",
        "  option = input(\"Do you wan to continue Y/N:\")\n",
        "  option.lower()\n",
        "  if option == 'y':\n",
        "    pass\n",
        "\n",
        "  else:\n",
        "    break"
      ],
      "metadata": {
        "colab": {
          "base_uri": "https://localhost:8080/"
        },
        "id": "cSSn_dWcY9Tq",
        "outputId": "42e8c91a-285b-43c2-95b7-1778baee0662"
      },
      "execution_count": null,
      "outputs": [
        {
          "name": "stdout",
          "output_type": "stream",
          "text": [
            "Enter the first No:1\n",
            "Enter the second No:2\n",
            "Enter the command(add,sub,mul,div)add\n",
            "3\n",
            "Do you wan to continue Y/N:y\n",
            "Enter the first No:3\n",
            "Enter the second No:4\n",
            "Enter the command(add,sub,mul,div)mul\n",
            "12\n",
            "Do you wan to continue Y/N:n\n"
          ]
        }
      ]
    },
    {
      "cell_type": "code",
      "source": [
        "#pass by reference\n",
        "\n",
        "def printme(var):\n",
        "  print(id(var))\n",
        "\n",
        "name =\"xyz\"\n",
        "print(id(name))\n",
        "printme(name)"
      ],
      "metadata": {
        "colab": {
          "base_uri": "https://localhost:8080/"
        },
        "id": "EVSfs5AwJpr4",
        "outputId": "685fbd33-c722-4ee6-c806-dba80fbad81a"
      },
      "execution_count": null,
      "outputs": [
        {
          "output_type": "stream",
          "name": "stdout",
          "text": [
            "134054862579696\n",
            "134054862579696\n"
          ]
        }
      ]
    },
    {
      "cell_type": "code",
      "source": [
        "[[1,2,3],[3,2,1],[4,5,6]]"
      ],
      "metadata": {
        "id": "8qgwBMMiZzXH"
      },
      "execution_count": null,
      "outputs": []
    },
    {
      "cell_type": "code",
      "source": [
        "#Scope of Variables in Python\n",
        "#specific area or region where the variable is accessible to the user\n",
        "#The scope of a variable depends on where and how it is defined.\n",
        "#In Python, a variable can have either a global or a local scope.\n",
        "#local variable: is defined within a specific function or block of code.\n",
        "#local variable: It can only be accessed by the function or block where it was defined.\n",
        "#global variable: can be accessed from any part of the program.\n",
        "#global variable: it is defined outside any function or block of code."
      ],
      "metadata": {
        "id": "fxQ6OrfdKdiq"
      },
      "execution_count": null,
      "outputs": []
    },
    {
      "cell_type": "code",
      "source": [
        "\n"
      ],
      "metadata": {
        "colab": {
          "base_uri": "https://localhost:8080/"
        },
        "id": "PXz596XAaXdn",
        "outputId": "5f3362c8-48c4-4ba8-9489-adfec22fe119"
      },
      "execution_count": null,
      "outputs": [
        {
          "output_type": "stream",
          "name": "stdout",
          "text": [
            "3 4\n"
          ]
        },
        {
          "output_type": "execute_result",
          "data": {
            "text/plain": [
              "7"
            ]
          },
          "metadata": {},
          "execution_count": 3
        }
      ]
    },
    {
      "cell_type": "code",
      "source": [
        "#local variable\n",
        "def add(x,y):\n",
        "  print(x,y)\n",
        "  return(x+y)\n",
        "add(3,4)"
      ],
      "metadata": {
        "id": "YVSt3L1eGtRr"
      },
      "execution_count": null,
      "outputs": []
    },
    {
      "cell_type": "code",
      "source": [
        "#global variable\n",
        "mark = 50\n",
        "def myfunction():\n",
        "  print(mark)\n",
        "myfunction()"
      ],
      "metadata": {
        "colab": {
          "base_uri": "https://localhost:8080/"
        },
        "id": "KIle09iKGzBK",
        "outputId": "6bd97fad-fa98-4228-f20c-4f8957ec3b78"
      },
      "execution_count": null,
      "outputs": [
        {
          "output_type": "stream",
          "name": "stdout",
          "text": [
            "50\n"
          ]
        }
      ]
    },
    {
      "cell_type": "code",
      "source": [
        "#Namespace Conflict in Python\n",
        "mark = 50\n",
        "def myfunction():\n",
        "  mark =+1\n",
        "  print(mark)\n",
        "myfunction()"
      ],
      "metadata": {
        "colab": {
          "base_uri": "https://localhost:8080/"
        },
        "id": "_9hNILFMHpzB",
        "outputId": "063f949d-d72f-454a-f2b3-733ad8cfc73b"
      },
      "execution_count": null,
      "outputs": [
        {
          "output_type": "stream",
          "name": "stdout",
          "text": [
            "1\n"
          ]
        }
      ]
    },
    {
      "cell_type": "code",
      "source": [
        "#change in global variable value\n",
        "#global keyword\n",
        "mark = 50\n",
        "def myfunction():\n",
        "  global mark\n",
        "  mark =mark+1\n",
        "  print(mark)\n",
        "def myfunction2():\n",
        "  global mark\n",
        "  mark = mark - 2\n",
        "  print(mark)\n",
        "myfunction()\n",
        "myfunction2()"
      ],
      "metadata": {
        "colab": {
          "base_uri": "https://localhost:8080/"
        },
        "id": "jrco7ac4G1Aa",
        "outputId": "71643d46-8a48-46d7-cdcb-8fbb3b9e8206"
      },
      "execution_count": null,
      "outputs": [
        {
          "output_type": "stream",
          "name": "stdout",
          "text": [
            "51\n",
            "48\n"
          ]
        }
      ]
    },
    {
      "cell_type": "code",
      "source": [
        "#globals and locals functions\n",
        "print(locals())\n",
        "print(globals())"
      ],
      "metadata": {
        "colab": {
          "base_uri": "https://localhost:8080/"
        },
        "id": "8pCRNKfGHBXq",
        "outputId": "c2ed7124-fcfc-4127-ec9c-8007a8e11675"
      },
      "execution_count": null,
      "outputs": [
        {
          "output_type": "stream",
          "name": "stdout",
          "text": [
            "{'__name__': '__main__', '__doc__': 'Automatically created module for IPython interactive environment', '__package__': None, '__loader__': None, '__spec__': None, '__builtin__': <module 'builtins' (built-in)>, '__builtins__': <module 'builtins' (built-in)>, '_ih': ['', 'def add(x,y):\\n  print(x,y)\\n  return(x+y)\\nadd(3,4)', 'def add(x,y):\\n  return(x+y)\\nadd(3,4)\\nprint(x,y)', 'def add(x,y):\\n  print(x,y)\\n  return(x+y)\\nadd(3,4)', '#global variable\\nmark = 50\\ndef myfunction():\\n  print(mark)\\nmyfunction()', '#global variable\\nmark = 50\\ndef myfunction():\\n  mark =+1\\n  print(mark)\\nmyfunction()', '#global variable\\nmark = 50\\ndef myfunction():\\n  print(mark)\\nmyfunction()', '#Namespace Conflict in Python\\nmark = 50\\ndef myfunction():\\n  mark =+1\\n  print(mark)\\nmyfunction()', '#change in global variable value\\n#global keyword\\nmark = 50\\ndef myfunction():\\n  global mark\\n  mark =+1\\n  print(mark)\\nmyfunction()', '#change in global variable value\\n#global keyword\\nmark = 50\\ndef myfunction(x):\\n  global mark\\n  mark =+1\\n  print(mark)\\nmyfunction(mark)', '#change in global variable value\\n#global keyword\\nmark = 50\\ndef myfunction(x):\\n  global mark\\n  #mark =+1\\n  print(mark)\\nmyfunction(mark)', '#change in global variable value\\n#global keyword\\nz = 50\\ndef myfunction():\\n  global z\\n  #mark =+1\\n  print(mark)\\nmyfunction()', '#change in global variable value\\n#global keyword\\nz = 50\\ndef myfunction():\\n  global z\\n  z =+1\\n  print(mark)\\nmyfunction()', '#change in global variable value\\n#global keyword\\nz = 50\\ndef myfunction():\\n  global z\\n  z =+1\\n  print(z)\\nmyfunction()', '#change in global variable value\\n#global keyword\\nz = 50\\ndef myfunction(z):\\n  global z\\n  z =+1\\n  print(z)\\nmyfunction(z)', '#change in global variable value\\n#global keyword\\nz = 50\\ndef myfunction(z):\\n  z =+1\\n  print(z)\\nmyfunction(z)', '#change in global variable value\\n#global keyword\\nz = 50\\ndef myfunction(z):\\n  z =z+1\\n  print(z)\\nmyfunction(z)', '#change in global variable value\\n#global keyword\\nz = 50\\ndef myfunction():\\n  global z\\n  z =z+1\\n  print(z)\\nmyfunction()', '#change in global variable value\\n#global keyword\\nmark = 50\\ndef myfunction():\\n  global mark\\n  mark =mark+1\\n  print(mark)\\nmyfunction()', '#change in global variable value\\n#global keyword\\nmark = 50\\ndef myfunction():\\n  #global mark\\n  mark =mark+1\\n  print(mark)\\nmyfunction()', '#change in global variable value\\n#global keyword\\nmark = 50\\ndef myfunction():\\n  global mark\\n  mark =mark+1\\n  print(mark)\\nmyfunction()', '#change in global variable value\\n#global keyword\\nmark = 50\\ndef myfunction():\\n  global mark\\n  mark =mark+1\\n  print(mark)\\ndef myfunction2():\\n  global mark\\n  mark = mark - 2\\n  print(mark)\\nmyfunction()\\nmyfunction2()', '#globals and locals functions\\nprint(locals())', '#globals and locals functions\\nprint(locals())\\nprint(global())', '#globals and locals functions\\nprint(locals())\\nprint(globals())'], '_oh': {1: 7, 3: 7}, '_dh': ['/content'], 'In': ['', 'def add(x,y):\\n  print(x,y)\\n  return(x+y)\\nadd(3,4)', 'def add(x,y):\\n  return(x+y)\\nadd(3,4)\\nprint(x,y)', 'def add(x,y):\\n  print(x,y)\\n  return(x+y)\\nadd(3,4)', '#global variable\\nmark = 50\\ndef myfunction():\\n  print(mark)\\nmyfunction()', '#global variable\\nmark = 50\\ndef myfunction():\\n  mark =+1\\n  print(mark)\\nmyfunction()', '#global variable\\nmark = 50\\ndef myfunction():\\n  print(mark)\\nmyfunction()', '#Namespace Conflict in Python\\nmark = 50\\ndef myfunction():\\n  mark =+1\\n  print(mark)\\nmyfunction()', '#change in global variable value\\n#global keyword\\nmark = 50\\ndef myfunction():\\n  global mark\\n  mark =+1\\n  print(mark)\\nmyfunction()', '#change in global variable value\\n#global keyword\\nmark = 50\\ndef myfunction(x):\\n  global mark\\n  mark =+1\\n  print(mark)\\nmyfunction(mark)', '#change in global variable value\\n#global keyword\\nmark = 50\\ndef myfunction(x):\\n  global mark\\n  #mark =+1\\n  print(mark)\\nmyfunction(mark)', '#change in global variable value\\n#global keyword\\nz = 50\\ndef myfunction():\\n  global z\\n  #mark =+1\\n  print(mark)\\nmyfunction()', '#change in global variable value\\n#global keyword\\nz = 50\\ndef myfunction():\\n  global z\\n  z =+1\\n  print(mark)\\nmyfunction()', '#change in global variable value\\n#global keyword\\nz = 50\\ndef myfunction():\\n  global z\\n  z =+1\\n  print(z)\\nmyfunction()', '#change in global variable value\\n#global keyword\\nz = 50\\ndef myfunction(z):\\n  global z\\n  z =+1\\n  print(z)\\nmyfunction(z)', '#change in global variable value\\n#global keyword\\nz = 50\\ndef myfunction(z):\\n  z =+1\\n  print(z)\\nmyfunction(z)', '#change in global variable value\\n#global keyword\\nz = 50\\ndef myfunction(z):\\n  z =z+1\\n  print(z)\\nmyfunction(z)', '#change in global variable value\\n#global keyword\\nz = 50\\ndef myfunction():\\n  global z\\n  z =z+1\\n  print(z)\\nmyfunction()', '#change in global variable value\\n#global keyword\\nmark = 50\\ndef myfunction():\\n  global mark\\n  mark =mark+1\\n  print(mark)\\nmyfunction()', '#change in global variable value\\n#global keyword\\nmark = 50\\ndef myfunction():\\n  #global mark\\n  mark =mark+1\\n  print(mark)\\nmyfunction()', '#change in global variable value\\n#global keyword\\nmark = 50\\ndef myfunction():\\n  global mark\\n  mark =mark+1\\n  print(mark)\\nmyfunction()', '#change in global variable value\\n#global keyword\\nmark = 50\\ndef myfunction():\\n  global mark\\n  mark =mark+1\\n  print(mark)\\ndef myfunction2():\\n  global mark\\n  mark = mark - 2\\n  print(mark)\\nmyfunction()\\nmyfunction2()', '#globals and locals functions\\nprint(locals())', '#globals and locals functions\\nprint(locals())\\nprint(global())', '#globals and locals functions\\nprint(locals())\\nprint(globals())'], 'Out': {1: 7, 3: 7}, 'get_ipython': <bound method InteractiveShell.get_ipython of <google.colab._shell.Shell object at 0x7ec007c4c220>>, 'exit': <IPython.core.autocall.ZMQExitAutocall object at 0x7ec007c4cc10>, 'quit': <IPython.core.autocall.ZMQExitAutocall object at 0x7ec007c4cc10>, '_': 7, '__': 7, '___': '', '_i': '#globals and locals functions\\nprint(locals())\\nprint(global())', '_ii': '#globals and locals functions\\nprint(locals())', '_iii': '#change in global variable value\\n#global keyword\\nmark = 50\\ndef myfunction():\\n  global mark\\n  mark =mark+1\\n  print(mark)\\ndef myfunction2():\\n  global mark\\n  mark = mark - 2\\n  print(mark)\\nmyfunction()\\nmyfunction2()', '_i1': 'def add(x,y):\\n  print(x,y)\\n  return(x+y)\\nadd(3,4)', 'add': <function add at 0x7ebff7584160>, '_1': 7, '_i2': 'def add(x,y):\\n  return(x+y)\\nadd(3,4)\\nprint(x,y)', '_i3': 'def add(x,y):\\n  print(x,y)\\n  return(x+y)\\nadd(3,4)', '_3': 7, '_i4': '#global variable\\nmark = 50\\ndef myfunction():\\n  print(mark)\\nmyfunction()', 'mark': 49, 'myfunction': <function myfunction at 0x7ebfc3c8ac20>, '_i5': '#global variable\\nmark = 50\\ndef myfunction():\\n  mark =+1\\n  print(mark)\\nmyfunction()', '_i6': '#global variable\\nmark = 50\\ndef myfunction():\\n  print(mark)\\nmyfunction()', '_i7': '#Namespace Conflict in Python\\nmark = 50\\ndef myfunction():\\n  mark =+1\\n  print(mark)\\nmyfunction()', '_i8': '#change in global variable value\\n#global keyword\\nmark = 50\\ndef myfunction():\\n  global mark\\n  mark =+1\\n  print(mark)\\nmyfunction()', '_i9': '#change in global variable value\\n#global keyword\\nmark = 50\\ndef myfunction(x):\\n  global mark\\n  mark =+1\\n  print(mark)\\nmyfunction(mark)', '_i10': '#change in global variable value\\n#global keyword\\nmark = 50\\ndef myfunction(x):\\n  global mark\\n  #mark =+1\\n  print(mark)\\nmyfunction(mark)', '_i11': '#change in global variable value\\n#global keyword\\nz = 50\\ndef myfunction():\\n  global z\\n  #mark =+1\\n  print(mark)\\nmyfunction()', 'z': 51, '_i12': '#change in global variable value\\n#global keyword\\nz = 50\\ndef myfunction():\\n  global z\\n  z =+1\\n  print(mark)\\nmyfunction()', '_i13': '#change in global variable value\\n#global keyword\\nz = 50\\ndef myfunction():\\n  global z\\n  z =+1\\n  print(z)\\nmyfunction()', '_i14': '#change in global variable value\\n#global keyword\\nz = 50\\ndef myfunction(z):\\n  global z\\n  z =+1\\n  print(z)\\nmyfunction(z)', '_i15': '#change in global variable value\\n#global keyword\\nz = 50\\ndef myfunction(z):\\n  z =+1\\n  print(z)\\nmyfunction(z)', '_i16': '#change in global variable value\\n#global keyword\\nz = 50\\ndef myfunction(z):\\n  z =z+1\\n  print(z)\\nmyfunction(z)', '_i17': '#change in global variable value\\n#global keyword\\nz = 50\\ndef myfunction():\\n  global z\\n  z =z+1\\n  print(z)\\nmyfunction()', '_i18': '#change in global variable value\\n#global keyword\\nmark = 50\\ndef myfunction():\\n  global mark\\n  mark =mark+1\\n  print(mark)\\nmyfunction()', '_i19': '#change in global variable value\\n#global keyword\\nmark = 50\\ndef myfunction():\\n  #global mark\\n  mark =mark+1\\n  print(mark)\\nmyfunction()', '_i20': '#change in global variable value\\n#global keyword\\nmark = 50\\ndef myfunction():\\n  global mark\\n  mark =mark+1\\n  print(mark)\\nmyfunction()', '_i21': '#change in global variable value\\n#global keyword\\nmark = 50\\ndef myfunction():\\n  global mark\\n  mark =mark+1\\n  print(mark)\\ndef myfunction2():\\n  global mark\\n  mark = mark - 2\\n  print(mark)\\nmyfunction()\\nmyfunction2()', 'myfunction2': <function myfunction2 at 0x7ebfc3c8a5f0>, '_i22': '#globals and locals functions\\nprint(locals())', '_i23': '#globals and locals functions\\nprint(locals())\\nprint(global())', '_i24': '#globals and locals functions\\nprint(locals())\\nprint(globals())'}\n",
            "{'__name__': '__main__', '__doc__': 'Automatically created module for IPython interactive environment', '__package__': None, '__loader__': None, '__spec__': None, '__builtin__': <module 'builtins' (built-in)>, '__builtins__': <module 'builtins' (built-in)>, '_ih': ['', 'def add(x,y):\\n  print(x,y)\\n  return(x+y)\\nadd(3,4)', 'def add(x,y):\\n  return(x+y)\\nadd(3,4)\\nprint(x,y)', 'def add(x,y):\\n  print(x,y)\\n  return(x+y)\\nadd(3,4)', '#global variable\\nmark = 50\\ndef myfunction():\\n  print(mark)\\nmyfunction()', '#global variable\\nmark = 50\\ndef myfunction():\\n  mark =+1\\n  print(mark)\\nmyfunction()', '#global variable\\nmark = 50\\ndef myfunction():\\n  print(mark)\\nmyfunction()', '#Namespace Conflict in Python\\nmark = 50\\ndef myfunction():\\n  mark =+1\\n  print(mark)\\nmyfunction()', '#change in global variable value\\n#global keyword\\nmark = 50\\ndef myfunction():\\n  global mark\\n  mark =+1\\n  print(mark)\\nmyfunction()', '#change in global variable value\\n#global keyword\\nmark = 50\\ndef myfunction(x):\\n  global mark\\n  mark =+1\\n  print(mark)\\nmyfunction(mark)', '#change in global variable value\\n#global keyword\\nmark = 50\\ndef myfunction(x):\\n  global mark\\n  #mark =+1\\n  print(mark)\\nmyfunction(mark)', '#change in global variable value\\n#global keyword\\nz = 50\\ndef myfunction():\\n  global z\\n  #mark =+1\\n  print(mark)\\nmyfunction()', '#change in global variable value\\n#global keyword\\nz = 50\\ndef myfunction():\\n  global z\\n  z =+1\\n  print(mark)\\nmyfunction()', '#change in global variable value\\n#global keyword\\nz = 50\\ndef myfunction():\\n  global z\\n  z =+1\\n  print(z)\\nmyfunction()', '#change in global variable value\\n#global keyword\\nz = 50\\ndef myfunction(z):\\n  global z\\n  z =+1\\n  print(z)\\nmyfunction(z)', '#change in global variable value\\n#global keyword\\nz = 50\\ndef myfunction(z):\\n  z =+1\\n  print(z)\\nmyfunction(z)', '#change in global variable value\\n#global keyword\\nz = 50\\ndef myfunction(z):\\n  z =z+1\\n  print(z)\\nmyfunction(z)', '#change in global variable value\\n#global keyword\\nz = 50\\ndef myfunction():\\n  global z\\n  z =z+1\\n  print(z)\\nmyfunction()', '#change in global variable value\\n#global keyword\\nmark = 50\\ndef myfunction():\\n  global mark\\n  mark =mark+1\\n  print(mark)\\nmyfunction()', '#change in global variable value\\n#global keyword\\nmark = 50\\ndef myfunction():\\n  #global mark\\n  mark =mark+1\\n  print(mark)\\nmyfunction()', '#change in global variable value\\n#global keyword\\nmark = 50\\ndef myfunction():\\n  global mark\\n  mark =mark+1\\n  print(mark)\\nmyfunction()', '#change in global variable value\\n#global keyword\\nmark = 50\\ndef myfunction():\\n  global mark\\n  mark =mark+1\\n  print(mark)\\ndef myfunction2():\\n  global mark\\n  mark = mark - 2\\n  print(mark)\\nmyfunction()\\nmyfunction2()', '#globals and locals functions\\nprint(locals())', '#globals and locals functions\\nprint(locals())\\nprint(global())', '#globals and locals functions\\nprint(locals())\\nprint(globals())'], '_oh': {1: 7, 3: 7}, '_dh': ['/content'], 'In': ['', 'def add(x,y):\\n  print(x,y)\\n  return(x+y)\\nadd(3,4)', 'def add(x,y):\\n  return(x+y)\\nadd(3,4)\\nprint(x,y)', 'def add(x,y):\\n  print(x,y)\\n  return(x+y)\\nadd(3,4)', '#global variable\\nmark = 50\\ndef myfunction():\\n  print(mark)\\nmyfunction()', '#global variable\\nmark = 50\\ndef myfunction():\\n  mark =+1\\n  print(mark)\\nmyfunction()', '#global variable\\nmark = 50\\ndef myfunction():\\n  print(mark)\\nmyfunction()', '#Namespace Conflict in Python\\nmark = 50\\ndef myfunction():\\n  mark =+1\\n  print(mark)\\nmyfunction()', '#change in global variable value\\n#global keyword\\nmark = 50\\ndef myfunction():\\n  global mark\\n  mark =+1\\n  print(mark)\\nmyfunction()', '#change in global variable value\\n#global keyword\\nmark = 50\\ndef myfunction(x):\\n  global mark\\n  mark =+1\\n  print(mark)\\nmyfunction(mark)', '#change in global variable value\\n#global keyword\\nmark = 50\\ndef myfunction(x):\\n  global mark\\n  #mark =+1\\n  print(mark)\\nmyfunction(mark)', '#change in global variable value\\n#global keyword\\nz = 50\\ndef myfunction():\\n  global z\\n  #mark =+1\\n  print(mark)\\nmyfunction()', '#change in global variable value\\n#global keyword\\nz = 50\\ndef myfunction():\\n  global z\\n  z =+1\\n  print(mark)\\nmyfunction()', '#change in global variable value\\n#global keyword\\nz = 50\\ndef myfunction():\\n  global z\\n  z =+1\\n  print(z)\\nmyfunction()', '#change in global variable value\\n#global keyword\\nz = 50\\ndef myfunction(z):\\n  global z\\n  z =+1\\n  print(z)\\nmyfunction(z)', '#change in global variable value\\n#global keyword\\nz = 50\\ndef myfunction(z):\\n  z =+1\\n  print(z)\\nmyfunction(z)', '#change in global variable value\\n#global keyword\\nz = 50\\ndef myfunction(z):\\n  z =z+1\\n  print(z)\\nmyfunction(z)', '#change in global variable value\\n#global keyword\\nz = 50\\ndef myfunction():\\n  global z\\n  z =z+1\\n  print(z)\\nmyfunction()', '#change in global variable value\\n#global keyword\\nmark = 50\\ndef myfunction():\\n  global mark\\n  mark =mark+1\\n  print(mark)\\nmyfunction()', '#change in global variable value\\n#global keyword\\nmark = 50\\ndef myfunction():\\n  #global mark\\n  mark =mark+1\\n  print(mark)\\nmyfunction()', '#change in global variable value\\n#global keyword\\nmark = 50\\ndef myfunction():\\n  global mark\\n  mark =mark+1\\n  print(mark)\\nmyfunction()', '#change in global variable value\\n#global keyword\\nmark = 50\\ndef myfunction():\\n  global mark\\n  mark =mark+1\\n  print(mark)\\ndef myfunction2():\\n  global mark\\n  mark = mark - 2\\n  print(mark)\\nmyfunction()\\nmyfunction2()', '#globals and locals functions\\nprint(locals())', '#globals and locals functions\\nprint(locals())\\nprint(global())', '#globals and locals functions\\nprint(locals())\\nprint(globals())'], 'Out': {1: 7, 3: 7}, 'get_ipython': <bound method InteractiveShell.get_ipython of <google.colab._shell.Shell object at 0x7ec007c4c220>>, 'exit': <IPython.core.autocall.ZMQExitAutocall object at 0x7ec007c4cc10>, 'quit': <IPython.core.autocall.ZMQExitAutocall object at 0x7ec007c4cc10>, '_': 7, '__': 7, '___': '', '_i': '#globals and locals functions\\nprint(locals())\\nprint(global())', '_ii': '#globals and locals functions\\nprint(locals())', '_iii': '#change in global variable value\\n#global keyword\\nmark = 50\\ndef myfunction():\\n  global mark\\n  mark =mark+1\\n  print(mark)\\ndef myfunction2():\\n  global mark\\n  mark = mark - 2\\n  print(mark)\\nmyfunction()\\nmyfunction2()', '_i1': 'def add(x,y):\\n  print(x,y)\\n  return(x+y)\\nadd(3,4)', 'add': <function add at 0x7ebff7584160>, '_1': 7, '_i2': 'def add(x,y):\\n  return(x+y)\\nadd(3,4)\\nprint(x,y)', '_i3': 'def add(x,y):\\n  print(x,y)\\n  return(x+y)\\nadd(3,4)', '_3': 7, '_i4': '#global variable\\nmark = 50\\ndef myfunction():\\n  print(mark)\\nmyfunction()', 'mark': 49, 'myfunction': <function myfunction at 0x7ebfc3c8ac20>, '_i5': '#global variable\\nmark = 50\\ndef myfunction():\\n  mark =+1\\n  print(mark)\\nmyfunction()', '_i6': '#global variable\\nmark = 50\\ndef myfunction():\\n  print(mark)\\nmyfunction()', '_i7': '#Namespace Conflict in Python\\nmark = 50\\ndef myfunction():\\n  mark =+1\\n  print(mark)\\nmyfunction()', '_i8': '#change in global variable value\\n#global keyword\\nmark = 50\\ndef myfunction():\\n  global mark\\n  mark =+1\\n  print(mark)\\nmyfunction()', '_i9': '#change in global variable value\\n#global keyword\\nmark = 50\\ndef myfunction(x):\\n  global mark\\n  mark =+1\\n  print(mark)\\nmyfunction(mark)', '_i10': '#change in global variable value\\n#global keyword\\nmark = 50\\ndef myfunction(x):\\n  global mark\\n  #mark =+1\\n  print(mark)\\nmyfunction(mark)', '_i11': '#change in global variable value\\n#global keyword\\nz = 50\\ndef myfunction():\\n  global z\\n  #mark =+1\\n  print(mark)\\nmyfunction()', 'z': 51, '_i12': '#change in global variable value\\n#global keyword\\nz = 50\\ndef myfunction():\\n  global z\\n  z =+1\\n  print(mark)\\nmyfunction()', '_i13': '#change in global variable value\\n#global keyword\\nz = 50\\ndef myfunction():\\n  global z\\n  z =+1\\n  print(z)\\nmyfunction()', '_i14': '#change in global variable value\\n#global keyword\\nz = 50\\ndef myfunction(z):\\n  global z\\n  z =+1\\n  print(z)\\nmyfunction(z)', '_i15': '#change in global variable value\\n#global keyword\\nz = 50\\ndef myfunction(z):\\n  z =+1\\n  print(z)\\nmyfunction(z)', '_i16': '#change in global variable value\\n#global keyword\\nz = 50\\ndef myfunction(z):\\n  z =z+1\\n  print(z)\\nmyfunction(z)', '_i17': '#change in global variable value\\n#global keyword\\nz = 50\\ndef myfunction():\\n  global z\\n  z =z+1\\n  print(z)\\nmyfunction()', '_i18': '#change in global variable value\\n#global keyword\\nmark = 50\\ndef myfunction():\\n  global mark\\n  mark =mark+1\\n  print(mark)\\nmyfunction()', '_i19': '#change in global variable value\\n#global keyword\\nmark = 50\\ndef myfunction():\\n  #global mark\\n  mark =mark+1\\n  print(mark)\\nmyfunction()', '_i20': '#change in global variable value\\n#global keyword\\nmark = 50\\ndef myfunction():\\n  global mark\\n  mark =mark+1\\n  print(mark)\\nmyfunction()', '_i21': '#change in global variable value\\n#global keyword\\nmark = 50\\ndef myfunction():\\n  global mark\\n  mark =mark+1\\n  print(mark)\\ndef myfunction2():\\n  global mark\\n  mark = mark - 2\\n  print(mark)\\nmyfunction()\\nmyfunction2()', 'myfunction2': <function myfunction2 at 0x7ebfc3c8a5f0>, '_i22': '#globals and locals functions\\nprint(locals())', '_i23': '#globals and locals functions\\nprint(locals())\\nprint(global())', '_i24': '#globals and locals functions\\nprint(locals())\\nprint(globals())'}\n"
          ]
        }
      ]
    },
    {
      "cell_type": "code",
      "source": [
        "#calculator with global variable\n",
        "def add():\n",
        "  global f_n,s_n\n",
        "  return (f_n+s_n)\n",
        "def sub():\n",
        "  global f_n,s_n\n",
        "  return (f_n-s_n)\n",
        "def mul():\n",
        "  global f_n,s_n\n",
        "  return (f_n*s_n)\n",
        "def div():\n",
        "  global f_n,s_n\n",
        "  return (f_n/s_n)\n",
        "f_n = 0\n",
        "s_n = 0\n",
        "while True:\n",
        "  f_n = int(input(\"Enter the first No:\"))\n",
        "  s_n = int(input(\"Enter the second No:\"))\n",
        "  cmd = input(\"Enter the command(add,sub,mul,div)\")\n",
        "  cmd = cmd.lower()\n",
        "  if cmd == \"add\":\n",
        "    sum = add()\n",
        "    print(sum)\n",
        "  elif cmd == \"sub\" :\n",
        "    print(sub())\n",
        "  elif cmd == \"mul\" :\n",
        "    print(mul())\n",
        "  elif cmd == \"div\" :\n",
        "    print(div())\n",
        "  else:\n",
        "    print(\"invalid cmd\")\n",
        "  option = input(\"Do you wan to continue Y/N:\")\n",
        "  option.lower()\n",
        "  if option == 'y':\n",
        "    pass\n",
        "\n",
        "  else:\n",
        "    break"
      ],
      "metadata": {
        "id": "mVAIlKpmlGdt"
      },
      "execution_count": null,
      "outputs": []
    },
    {
      "cell_type": "code",
      "source": [
        "#python modules\n",
        "# A module is a file containing definition of\n",
        "  #functions, classes, variables, constants or any other Python object\n",
        "#Contents of this file can be made available to any other program.\n",
        "#Python has the \"import\" keyword for this purpose."
      ],
      "metadata": {
        "id": "KJsb3mI8IEjr"
      },
      "execution_count": null,
      "outputs": []
    },
    {
      "cell_type": "code",
      "source": [
        "ls"
      ],
      "metadata": {
        "id": "TF_-Hzw_n_bd",
        "colab": {
          "base_uri": "https://localhost:8080/"
        },
        "outputId": "97eff0ff-d0d5-4ebc-e802-4176df0978b3"
      },
      "execution_count": null,
      "outputs": [
        {
          "output_type": "stream",
          "name": "stdout",
          "text": [
            "\u001b[0m\u001b[01;34msample_data\u001b[0m/\n"
          ]
        }
      ]
    },
    {
      "cell_type": "code",
      "source": [
        "#example module\n",
        "from math import *\n",
        "print(sqrt(100))"
      ],
      "metadata": {
        "id": "TtGLK22jIqv7",
        "colab": {
          "base_uri": "https://localhost:8080/"
        },
        "outputId": "4bfcd44c-affc-40bb-903c-c59e209ce581"
      },
      "execution_count": null,
      "outputs": [
        {
          "output_type": "stream",
          "name": "stdout",
          "text": [
            "10.0\n"
          ]
        }
      ]
    },
    {
      "cell_type": "code",
      "source": [
        "#assignment : Built in module"
      ],
      "metadata": {
        "id": "Z_xqHqk4IlrP"
      },
      "execution_count": null,
      "outputs": []
    },
    {
      "cell_type": "code",
      "source": [
        "#user defined modules - import module statement\n",
        "#create mymodule.py file\n",
        "import mymodule\n",
        "print(mymodule.add(3,4))"
      ],
      "metadata": {
        "id": "CIlifGNxIlvh",
        "colab": {
          "base_uri": "https://localhost:8080/"
        },
        "outputId": "05566c56-a596-4b13-c57c-0748e6f93494"
      },
      "execution_count": null,
      "outputs": [
        {
          "output_type": "stream",
          "name": "stdout",
          "text": [
            "7\n"
          ]
        }
      ]
    },
    {
      "cell_type": "code",
      "source": [
        "#user defined modules The import ... as Statement\n",
        "import mymodule as x\n",
        "print(x.add(3,4))"
      ],
      "metadata": {
        "id": "FvKVb7e1KlnY",
        "colab": {
          "base_uri": "https://localhost:8080/"
        },
        "outputId": "00e7272b-dc46-4d21-ca98-aca744f73e0f"
      },
      "execution_count": null,
      "outputs": [
        {
          "output_type": "stream",
          "name": "stdout",
          "text": [
            "7\n"
          ]
        }
      ]
    },
    {
      "cell_type": "code",
      "source": [
        "#user defined modules - from module import */functions statement\n",
        "#create mymodule.py file\n",
        "#create mymod.py\n",
        "from mymodule import *\n",
        "from mymod import *\n",
        "print(add(3,4))\n",
        "print(sub(3,2))"
      ],
      "metadata": {
        "id": "grEo_ZGyJtBP",
        "colab": {
          "base_uri": "https://localhost:8080/"
        },
        "outputId": "d1d7c245-9ac8-4d93-90d7-49b248a7a2a5"
      },
      "execution_count": null,
      "outputs": [
        {
          "output_type": "stream",
          "name": "stdout",
          "text": [
            "7\n",
            "1\n"
          ]
        }
      ]
    },
    {
      "cell_type": "code",
      "source": [
        "#Packages in Python\n",
        "import mathop\n",
        "print(add(3,4))\n",
        "print(sub(3,2))"
      ],
      "metadata": {
        "id": "OH-NmTmlKJkk",
        "colab": {
          "base_uri": "https://localhost:8080/"
        },
        "outputId": "b2be942f-0a06-4892-af73-63d91bff6062"
      },
      "execution_count": null,
      "outputs": [
        {
          "output_type": "stream",
          "name": "stdout",
          "text": [
            "7\n",
            "1\n"
          ]
        }
      ]
    },
    {
      "cell_type": "code",
      "source": [
        "#install packages on python\n",
        "#pip install package_name\n",
        "#pip install package_name==1.0.0\n",
        "#pip install -r requirements.txt\n",
        "#pip install --upgrade package_name\n",
        "#pip install https://example.com/package_name.tar.gz\n",
        "#pip install git+https://github.com/username/repo.git\n",
        "#install through source code"
      ],
      "metadata": {
        "id": "RYFKBLxUL3Fc"
      },
      "execution_count": null,
      "outputs": []
    },
    {
      "cell_type": "code",
      "source": [
        "!pip install arithmetic_calc"
      ],
      "metadata": {
        "colab": {
          "base_uri": "https://localhost:8080/"
        },
        "id": "nokd5nu4wtz8",
        "outputId": "1471a96b-77da-41e5-d80e-5296d4d2538b"
      },
      "execution_count": null,
      "outputs": [
        {
          "output_type": "stream",
          "name": "stdout",
          "text": [
            "Requirement already satisfied: arithmetic_calc in /usr/local/lib/python3.10/dist-packages (0.1)\n"
          ]
        }
      ]
    },
    {
      "cell_type": "code",
      "source": [
        "from arithmetic_calc import *\n",
        "calc = Arithmetic()\n",
        "result = calc.add(3,2)\n",
        "print(result)"
      ],
      "metadata": {
        "colab": {
          "base_uri": "https://localhost:8080/"
        },
        "id": "vVxsNiW8xBg4",
        "outputId": "57b9d3f9-9fbc-48f5-a0a6-d4b4e514f89f"
      },
      "execution_count": null,
      "outputs": [
        {
          "output_type": "stream",
          "name": "stdout",
          "text": [
            "5\n"
          ]
        }
      ]
    },
    {
      "cell_type": "code",
      "source": [
        "#lambda Functions\n",
        "# small, anonymous functions defined with the lambda keyword.\n",
        "#Typically used for short-term, throwaway functions.\n",
        "#Syntax: lambda arguments: expression"
      ],
      "metadata": {
        "id": "GD8L8wpZgRKT"
      },
      "execution_count": null,
      "outputs": []
    },
    {
      "cell_type": "code",
      "source": [
        "#lambda function Example\n",
        "add = lambda x,y:x+y\n",
        "print(add(3,4))"
      ],
      "metadata": {
        "colab": {
          "base_uri": "https://localhost:8080/"
        },
        "id": "BdsawP1pgigc",
        "outputId": "334849d5-17ed-4353-9dbe-22f60c99eabe"
      },
      "execution_count": null,
      "outputs": [
        {
          "output_type": "stream",
          "name": "stdout",
          "text": [
            "7\n"
          ]
        }
      ]
    },
    {
      "cell_type": "code",
      "source": [
        "#Comparison with Regular Functions\n",
        "#Syntax: Regular functions use def keyword, lambda functions use lambda.\n",
        "#Usage: Lambdas are single-expression functions,\n",
        "#whereas regular functions can contain multiple statements.\n",
        "#Use lambdas for simple operations\n",
        "#Use regular functions for more complex operations"
      ],
      "metadata": {
        "id": "Z8XZXdwjgk-Q"
      },
      "execution_count": null,
      "outputs": []
    },
    {
      "cell_type": "code",
      "source": [
        "#regular Function\n",
        "def add1(x,y):\n",
        "  return x+y\n",
        "print(add1(4,5))\n",
        "#equivalant lambda function\n",
        "add2 = lambda a,b:a+b\n",
        "print(add2(6,7))\n"
      ],
      "metadata": {
        "colab": {
          "base_uri": "https://localhost:8080/"
        },
        "id": "Y8pzmNIphGrb",
        "outputId": "638508ca-8ada-49f2-b8fa-151867042685"
      },
      "execution_count": null,
      "outputs": [
        {
          "output_type": "stream",
          "name": "stdout",
          "text": [
            "9\n",
            "13\n"
          ]
        }
      ]
    },
    {
      "cell_type": "code",
      "source": [
        "#simple calculation - area of rectangle\n",
        "area = lambda l,b:l*b\n",
        "print(f\"area of rectangle:{area(3,4)}\")"
      ],
      "metadata": {
        "colab": {
          "base_uri": "https://localhost:8080/"
        },
        "id": "NWwszVOqm1Ay",
        "outputId": "560c0988-6669-4815-a936-9949e84a7b5a"
      },
      "execution_count": null,
      "outputs": [
        {
          "output_type": "stream",
          "name": "stdout",
          "text": [
            "area of rectangle:12\n"
          ]
        }
      ]
    },
    {
      "cell_type": "code",
      "source": [
        "#capitalise the first letter of a word\n",
        "capital = lambda s:s.capitalize()\n",
        "print(capital(\"abcd\"))"
      ],
      "metadata": {
        "colab": {
          "base_uri": "https://localhost:8080/"
        },
        "id": "YKzJLL_bnV9F",
        "outputId": "84c012d2-642e-4741-e755-293a35375fdc"
      },
      "execution_count": null,
      "outputs": [
        {
          "output_type": "stream",
          "name": "stdout",
          "text": [
            "Abcd\n"
          ]
        }
      ]
    },
    {
      "cell_type": "code",
      "source": [
        "#Filtering Lists\n",
        "#filer function : filter(function,iteration)\n",
        "numbers = [1,2,3,4,5,6,7,8,9]\n",
        "def filtering(number):\n",
        "  return number%2 == 0\n",
        "even_num = list(filter(filtering,numbers))\n",
        "print(even_num)\n",
        "\n",
        "#using Lambda function\n",
        "\n",
        "even_num2 = list(filter(lambda x:x%2==0,numbers))\n",
        "print(even_num2)\n"
      ],
      "metadata": {
        "colab": {
          "base_uri": "https://localhost:8080/"
        },
        "id": "aHeY_JZDj82U",
        "outputId": "f50e9770-099f-4ee8-c127-6dae881c05cc"
      },
      "execution_count": null,
      "outputs": [
        {
          "output_type": "stream",
          "name": "stdout",
          "text": [
            "[2, 4, 6, 8]\n",
            "[2, 4, 6, 8]\n"
          ]
        }
      ]
    },
    {
      "cell_type": "code",
      "source": [
        "#calculator using lambda function\n",
        "\n",
        "while True:\n",
        "  fn = int(input(\"Enter the First Number:\"))\n",
        "  sn = int(input(\"Enter the Second Number:\"))\n",
        "  command = input(\"Enter the command(add,sub,mul,div):\")\n",
        "  command = command.lower()\n",
        "  if command == 'add':\n",
        "    add = lambda x,y:x+y\n",
        "    print(add(fn,sn))\n",
        "  elif command == 'sub':\n",
        "    sub = lambda x,y:x-y\n",
        "    print(sub(fn,sn))\n",
        "  elif command == 'mul':\n",
        "    mul = lambda x,y:x*y\n",
        "    print(mul(fn,sn))\n",
        "  elif command == 'div':\n",
        "    div = lambda x,y:x/y\n",
        "    print(div(fn,sn))\n",
        "  else:\n",
        "    print(\"Invalid Command\")\n",
        "  exit = input(\"Do You want to exit (y/n):\")\n",
        "  exit = exit.lower()\n",
        "  if exit == 'n':\n",
        "    break\n",
        "  else:\n",
        "    pass"
      ],
      "metadata": {
        "colab": {
          "base_uri": "https://localhost:8080/"
        },
        "id": "XDmXb2kTpKPs",
        "outputId": "8a965f6c-6ccd-4a26-aa17-7727263d2d43"
      },
      "execution_count": null,
      "outputs": [
        {
          "name": "stdout",
          "output_type": "stream",
          "text": [
            "Enter the First Number:2\n",
            "Enter the Second Number:3\n",
            "Enter the command(add,sub,mul,div):add\n",
            "5\n",
            "Do You want to exit (y/n):n\n",
            "Enter the First Number:4\n",
            "Enter the Second Number:2\n",
            "Enter the command(add,sub,mul,div):div\n",
            "2.0\n",
            "Do You want to exit (y/n):y\n"
          ]
        }
      ]
    },
    {
      "cell_type": "code",
      "source": [
        "#File Handling\n",
        "#Importance: Storing and retrieving data, logging, configuration files, etc.\n",
        "#Types of Files: Text (human-readable) vs Binary (machine-readable)\n",
        "#Opening and Closing Files\n",
        "  #Syntax: open(file, mode)\n",
        "  #Modes:\n",
        "    # r – Read (default)\n",
        "    # w – Write (creates or truncates)\n",
        "    # a – Append (creates if not exists)\n",
        "    # b – Binary mode\n",
        "    # + – Update (reading and writing)"
      ],
      "metadata": {
        "id": "swDOZaBro-Yx"
      },
      "execution_count": null,
      "outputs": []
    },
    {
      "cell_type": "code",
      "source": [
        "#basic file operations - write & read\n",
        "file = open('example.txt','w')\n",
        "file.write('Hello world')\n",
        "file.close()\n",
        "with open('example.txt','r') as file:\n",
        "  content = file.read()\n",
        "print(content)"
      ],
      "metadata": {
        "colab": {
          "base_uri": "https://localhost:8080/"
        },
        "id": "4KRY7wizp-3F",
        "outputId": "b9564d93-8e6f-436d-8821-90edeec65b3a"
      },
      "execution_count": null,
      "outputs": [
        {
          "output_type": "stream",
          "name": "stdout",
          "text": [
            "Hello world\n"
          ]
        }
      ]
    },
    {
      "cell_type": "code",
      "source": [
        "# Writing single lines\n",
        "file = open('example.txt','w')\n",
        "file.write('Hello world')\n",
        "file.close()"
      ],
      "metadata": {
        "id": "C_8fuGRCqiO3"
      },
      "execution_count": null,
      "outputs": []
    },
    {
      "cell_type": "code",
      "source": [
        "# Writing multiple lines\n",
        "string_list = ['first line\\n','second line\\n', 'third line\\n']\n",
        "with open('example.txt','w') as file:\n",
        "  file.writelines(string_list)"
      ],
      "metadata": {
        "id": "CfQ5Y-q-rEE2"
      },
      "execution_count": null,
      "outputs": []
    },
    {
      "cell_type": "code",
      "source": [
        "# Reading entire content\n",
        "with open('example.txt','r') as file:\n",
        "  content = file.read()\n",
        "print(content)"
      ],
      "metadata": {
        "colab": {
          "base_uri": "https://localhost:8080/"
        },
        "id": "S6E56JZ1rE7c",
        "outputId": "e4a321aa-a36e-4c83-f06f-22b7a7d65fff"
      },
      "execution_count": null,
      "outputs": [
        {
          "output_type": "stream",
          "name": "stdout",
          "text": [
            "first line\n",
            "second line\n",
            "third line\n",
            "\n"
          ]
        }
      ]
    },
    {
      "cell_type": "code",
      "source": [
        "# Reading line by line\n",
        "with open('example.txt','r') as file:\n",
        "  for line in file:\n",
        "    print(line.strip())"
      ],
      "metadata": {
        "colab": {
          "base_uri": "https://localhost:8080/"
        },
        "id": "L0LFOrXZrHuk",
        "outputId": "b9ecfc50-0780-4b0b-ac03-acb2c8968bab"
      },
      "execution_count": null,
      "outputs": [
        {
          "output_type": "stream",
          "name": "stdout",
          "text": [
            "first line\n",
            "second line\n",
            "third line\n"
          ]
        }
      ]
    },
    {
      "cell_type": "code",
      "source": [
        "# Append new line\n",
        "with open('example.txt', 'a') as file:\n",
        "  file.write(\"4th line\")"
      ],
      "metadata": {
        "id": "Sr5061hYrYnP"
      },
      "execution_count": null,
      "outputs": []
    },
    {
      "cell_type": "code",
      "source": [
        "# File positioning\n",
        "with open('example.txt', 'r') as file:\n",
        "  file.seek(6)\n",
        "  print(file.read())"
      ],
      "metadata": {
        "colab": {
          "base_uri": "https://localhost:8080/"
        },
        "id": "6oByyk2UusYk",
        "outputId": "6f493bbc-197c-4821-dde9-77f490df3351"
      },
      "execution_count": null,
      "outputs": [
        {
          "output_type": "stream",
          "name": "stdout",
          "text": [
            "line\n",
            "second line\n",
            "third line\n",
            "4th line\n"
          ]
        }
      ]
    },
    {
      "cell_type": "code",
      "source": [
        "#write python calculator program with lambda function single line\n",
        "\n",
        "while True:\n",
        "  fn = int(input(\"Enter the First Number:\"))\n",
        "  sn = int(input(\"Enter the Second Number:\"))\n",
        "  command = input(\"Enter the command(add,sub,mul,div):\")\n",
        "  command = command.lower()\n",
        "  if command == 'add':\n",
        "    print((lambda x,y:x+y)(fn,sn))\n",
        "  elif command == 'sub':\n",
        "    print((lambda x,y:x-y)(fn,sn))\n",
        "  elif command == 'mul':\n",
        "   print((lambda x,y:x*y)(fn,sn))\n",
        "  elif command == 'div':\n",
        "    print((lambda x,y:x/y)(fn,sn))\n",
        "  else:\n",
        "    print(\"Invalid Command\")\n",
        "  exit = input(\"Do You want to exit (y/n):\")\n",
        "  exit = exit.lower()\n",
        "  if exit == 'n':\n",
        "    break\n",
        "  else:\n",
        "    pass\n"
      ],
      "metadata": {
        "id": "_PjMf24jxJSm"
      },
      "execution_count": null,
      "outputs": []
    },
    {
      "cell_type": "code",
      "source": [
        "#Object Oriented Programming Concepts\n",
        "# Modularity, Reusability, Maintainability\n",
        "# Key Principles:\n",
        "  # Encapsulation: Bundling data with methods that operate on that data\n",
        "  # Abstraction: Hiding the complex reality while exposing the essential parts\n",
        "  # Inheritance: Mechanism of basing an object or class upon another object or class\n",
        "  # Polymorphism: Ability to present the same interface for different underlying data types\n",
        "#Classes and Objects\n",
        "# Class: Blueprint for creating objects\n",
        "# Object: Instance of a class\n",
        "#__init__ method used as constructor method\n",
        "#Instantiating Objects\n",
        "  #objectname = classname()"
      ],
      "metadata": {
        "id": "EewRBEFIvm4W"
      },
      "execution_count": null,
      "outputs": []
    },
    {
      "cell_type": "code",
      "source": [
        "#class and object example-1\n",
        "\n",
        "class Dog:\n",
        "  def __init__(self,name,color):\n",
        "    self.name = name\n",
        "    self.color = color\n",
        "    print(\"class initialisation\")\n",
        "\n",
        "my_dog = Dog(\"Buddy\",\"Pink\")\n",
        "your_dog = Dog(\"Pinky\",\"Brown\")\n",
        "print(my_dog.name)\n",
        "print(my_dog.color)\n",
        "print(your_dog.name)\n",
        "print(your_dog.color)"
      ],
      "metadata": {
        "colab": {
          "base_uri": "https://localhost:8080/"
        },
        "id": "QKrASDUb33DX",
        "outputId": "c62f0795-2ec5-4669-cb42-cfda0c781e25"
      },
      "execution_count": null,
      "outputs": [
        {
          "output_type": "stream",
          "name": "stdout",
          "text": [
            "class initialisation\n",
            "class initialisation\n",
            "Buddy\n",
            "Pink\n",
            "Pinky\n",
            "Brown\n"
          ]
        }
      ]
    },
    {
      "cell_type": "code",
      "source": [
        "#class and object example-2\n",
        "class Dog:\n",
        "  def __init__(self,name,color):\n",
        "    self.name = name\n",
        "    self.color = color\n",
        "  def displayDog(self):\n",
        "    print(f\"Name:{self.name},Color:{self.color}\")\n",
        "\n",
        "my_dog = Dog(\"Buddy\",\"Brown\")\n",
        "your_dog = Dog(\"Pinky\",\"Pink\")\n",
        "my_dog.displayDog()\n",
        "your_dog.displayDog()"
      ],
      "metadata": {
        "colab": {
          "base_uri": "https://localhost:8080/"
        },
        "id": "ihS5RdLvGmH1",
        "outputId": "5b78f42f-c83b-452f-fe4c-e371e8513bbf"
      },
      "execution_count": null,
      "outputs": [
        {
          "output_type": "stream",
          "name": "stdout",
          "text": [
            "Name:Buddy,Color:Brown\n",
            "Name:Pinky,Color:Pink\n"
          ]
        }
      ]
    },
    {
      "cell_type": "code",
      "source": [
        "#Class Attributes vs Instance Attributes\n",
        "\n",
        "class Dog:\n",
        "  legs = 4 #class attribute\n",
        "  def __init__(self,name,age):\n",
        "    self.name = name #instance attribute\n",
        "    self.age = age  #instance Atrribute\n",
        "  def displayDog(self):\n",
        "    print(f\"Name:{self.name}, Age:{self.age},Legs:{Dog.legs}\")\n",
        "\n",
        "my_dog = Dog(\"Buddy\",3)\n",
        "my_dog.displayDog()"
      ],
      "metadata": {
        "colab": {
          "base_uri": "https://localhost:8080/"
        },
        "id": "rOosADrL30kk",
        "outputId": "c24a6fa8-cdcc-478c-c9fd-c5b8186d7e7d"
      },
      "execution_count": null,
      "outputs": [
        {
          "output_type": "stream",
          "name": "stdout",
          "text": [
            "Name:Buddy, Age:3,Legs:4\n"
          ]
        }
      ]
    },
    {
      "cell_type": "code",
      "source": [
        "class Car:\n",
        "  wheel = 4\n",
        "  def __init__(self,brand,color):\n",
        "    self.brand = brand\n",
        "    self.color = color\n",
        "car1 = Car(\"Tata\",\"White\")\n",
        "print(car1.brand,car1.color)"
      ],
      "metadata": {
        "colab": {
          "base_uri": "https://localhost:8080/"
        },
        "id": "54D9lwtQzyLH",
        "outputId": "344cc84b-2764-4736-8096-1ac4a63ef062"
      },
      "execution_count": null,
      "outputs": [
        {
          "output_type": "stream",
          "name": "stdout",
          "text": [
            "Tata White\n"
          ]
        }
      ]
    },
    {
      "cell_type": "code",
      "source": [
        "# The getattr(obj, name[, default])\n",
        "getattr(car1,\"color\")"
      ],
      "metadata": {
        "colab": {
          "base_uri": "https://localhost:8080/",
          "height": 36
        },
        "id": "k2a3IwL2Ak-B",
        "outputId": "00d58a2b-a67d-4e8b-a7cc-dc4f11c99604"
      },
      "execution_count": null,
      "outputs": [
        {
          "output_type": "execute_result",
          "data": {
            "text/plain": [
              "'White'"
            ],
            "application/vnd.google.colaboratory.intrinsic+json": {
              "type": "string"
            }
          },
          "metadata": {},
          "execution_count": 14
        }
      ]
    },
    {
      "cell_type": "code",
      "source": [
        "# The hasattr(obj,name)\n",
        "hasattr(car1,\"door\")"
      ],
      "metadata": {
        "colab": {
          "base_uri": "https://localhost:8080/"
        },
        "id": "D08AWlWUAnmP",
        "outputId": "143129ad-c895-423b-c2f8-52c30573506a"
      },
      "execution_count": null,
      "outputs": [
        {
          "output_type": "execute_result",
          "data": {
            "text/plain": [
              "False"
            ]
          },
          "metadata": {},
          "execution_count": 15
        }
      ]
    },
    {
      "cell_type": "code",
      "source": [
        "# The setattr(obj,name,value)\n",
        "setattr(car1,\"door\",4)"
      ],
      "metadata": {
        "id": "HEkMxTQ-Apux"
      },
      "execution_count": null,
      "outputs": []
    },
    {
      "cell_type": "code",
      "source": [
        "print(car1.door)"
      ],
      "metadata": {
        "colab": {
          "base_uri": "https://localhost:8080/"
        },
        "id": "syaVAUoE08au",
        "outputId": "992ede1e-7195-4331-85d6-ef375939688e"
      },
      "execution_count": null,
      "outputs": [
        {
          "output_type": "stream",
          "name": "stdout",
          "text": [
            "4\n"
          ]
        }
      ]
    },
    {
      "cell_type": "code",
      "source": [
        "# The delattr(obj, name)\n",
        "delattr(car1,\"door\")"
      ],
      "metadata": {
        "id": "H1dxcaLAAsSn"
      },
      "execution_count": null,
      "outputs": []
    },
    {
      "cell_type": "code",
      "source": [
        "hasattr(car1,\"door\")"
      ],
      "metadata": {
        "colab": {
          "base_uri": "https://localhost:8080/"
        },
        "id": "gATEKAhx1QA_",
        "outputId": "668f8f39-3c5d-4667-f7bd-cb96c8b33958"
      },
      "execution_count": null,
      "outputs": [
        {
          "output_type": "execute_result",
          "data": {
            "text/plain": [
              "False"
            ]
          },
          "metadata": {},
          "execution_count": 21
        }
      ]
    },
    {
      "cell_type": "code",
      "source": [
        "#Class Inheritance in Python\n",
        "class Parent:\n",
        "  def __init__(self):\n",
        "    print(\"Parent class Constructor\")\n",
        "  def parentMethod(self):\n",
        "    print(\"Calling Parent method\")\n",
        "class Child(Parent):\n",
        "  def __init__(self):\n",
        "    print(\"Child Class Constructor\")\n",
        "  def childMethod(self):\n",
        "    print(\"Calling Child Method\")\n",
        "c = Child()\n",
        "c.parentMethod()"
      ],
      "metadata": {
        "colab": {
          "base_uri": "https://localhost:8080/"
        },
        "id": "JrniUEL3-pLv",
        "outputId": "e957ef5f-b026-47f8-b35d-46e798ac1958"
      },
      "execution_count": null,
      "outputs": [
        {
          "output_type": "stream",
          "name": "stdout",
          "text": [
            "Child Class Constructor\n",
            "Calling Parent method\n"
          ]
        }
      ]
    },
    {
      "cell_type": "code",
      "source": [
        "#Overriding Methods in Python\n",
        "class Parent:\n",
        "  def myMethod(self):\n",
        "    print(\"Parent method\")\n",
        "class Child(Parent):\n",
        "  def myMethod(self):\n",
        "    print(\"Child Method\")\n",
        "c = Child()\n",
        "c.myMethod()\n"
      ],
      "metadata": {
        "colab": {
          "base_uri": "https://localhost:8080/"
        },
        "id": "cL2-vo-UAE-g",
        "outputId": "11fc55fa-92d1-4ac5-e681-fd6e0816adf2"
      },
      "execution_count": null,
      "outputs": [
        {
          "output_type": "stream",
          "name": "stdout",
          "text": [
            "Child Method\n"
          ]
        }
      ]
    },
    {
      "cell_type": "code",
      "source": [
        "#Data Hiding in Python\n",
        "\n",
        "class JustCount:\n",
        "  normalCount = 0\n",
        "  __secretCount = 0 #protected attribute\n",
        "  def increaseCount(self):\n",
        "    JustCount.__secretCount +=1\n",
        "    print(JustCount.__secretCount)\n",
        "\n",
        "count = JustCount()\n",
        "print(count.normalCount)\n",
        "count.increaseCount()\n",
        "#print(count.__secretCount)"
      ],
      "metadata": {
        "colab": {
          "base_uri": "https://localhost:8080/"
        },
        "id": "6NQbO_hd8EfC",
        "outputId": "b7324c63-ebcd-45c7-a705-70cfb344e6f9"
      },
      "execution_count": null,
      "outputs": [
        {
          "output_type": "stream",
          "name": "stdout",
          "text": [
            "0\n",
            "1\n"
          ]
        }
      ]
    },
    {
      "cell_type": "code",
      "source": [
        "#Python - Access Modifiers\n",
        "class Employee:\n",
        "  def __init__(self,name,age,salary):\n",
        "    self.name = name\n",
        "    self._age = age\n",
        "    self.__salary = salary\n",
        "  def displayEmployee(self):\n",
        "    print(f\"Name:{self.name},Age{self._age},salary:{self.__salary}\")\n",
        "\n",
        "emp1 = Employee(\"ABC\",26,10000)\n",
        "emp1.displayEmployee()\n",
        "emp1.name\n",
        "emp1._age"
      ],
      "metadata": {
        "colab": {
          "base_uri": "https://localhost:8080/"
        },
        "id": "MvGJbu_5JE3i",
        "outputId": "f5f020e6-7513-4129-8015-a89f81220dd3"
      },
      "execution_count": null,
      "outputs": [
        {
          "output_type": "stream",
          "name": "stdout",
          "text": [
            "Name:ABC,Age26,salary:10000\n"
          ]
        },
        {
          "output_type": "execute_result",
          "data": {
            "text/plain": [
              "26"
            ]
          },
          "metadata": {},
          "execution_count": 40
        }
      ]
    },
    {
      "cell_type": "code",
      "source": [
        "#Python - Polymorphism - uses dynamic binding\n",
        "\n",
        "class shape:\n",
        "  def draw(self):\n",
        "    print(\"Draw a shape\")\n",
        "class circle(shape):\n",
        "  def draw(self):\n",
        "    print(\"Draw a circle\")\n",
        "class rectangle(shape):\n",
        "  def draw(self):\n",
        "    print(\"draw a rectangle\")\n",
        "shapes = [circle(),rectangle()]\n",
        "for x in shapes:\n",
        "  x.draw()\n"
      ],
      "metadata": {
        "colab": {
          "base_uri": "https://localhost:8080/"
        },
        "id": "OspUuiFQK503",
        "outputId": "c4e1d581-1277-4805-b501-83e8008aba3f"
      },
      "execution_count": null,
      "outputs": [
        {
          "output_type": "stream",
          "name": "stdout",
          "text": [
            "Draw a circle\n",
            "draw a rectangle\n"
          ]
        }
      ]
    },
    {
      "cell_type": "code",
      "source": [
        "class Animal:\n",
        "  def sound(self):\n",
        "    print(\"General Sound\")\n",
        "class Dog(Animal):\n",
        "  def sound(self):\n",
        "    print(\"Bow!!!\")\n",
        "class cat(Animal):\n",
        "  def sound(self):\n",
        "    print(\"Meow!!!\")\n",
        "\n",
        "animals = [Animal(),Dog(), cat()]\n",
        "for animal in animals:\n",
        "  animal.sound()"
      ],
      "metadata": {
        "colab": {
          "base_uri": "https://localhost:8080/"
        },
        "id": "HjXkg3GU_4Mr",
        "outputId": "65c84c7b-9892-4330-ab9c-0411419be8d4"
      },
      "execution_count": null,
      "outputs": [
        {
          "output_type": "stream",
          "name": "stdout",
          "text": [
            "General Sound\n",
            "Bow!!!\n",
            "Meow!!!\n"
          ]
        }
      ]
    },
    {
      "cell_type": "code",
      "source": [
        "#Why Python is Called Dynamically Typed?\n",
        "a = '5.2'\n",
        "print(type(a))\n",
        "\n",
        "def add(x,y):\n",
        "  return x+y\n",
        "\n",
        "print(add(\"Hello \",\"world\"))\n"
      ],
      "metadata": {
        "colab": {
          "base_uri": "https://localhost:8080/"
        },
        "id": "cVrd8mY4rIBe",
        "outputId": "8d693abd-43b1-40be-bb96-3575db2cf3b2"
      },
      "execution_count": null,
      "outputs": [
        {
          "output_type": "stream",
          "name": "stdout",
          "text": [
            "<class 'str'>\n",
            "Hello world\n"
          ]
        }
      ]
    },
    {
      "cell_type": "code",
      "source": [
        "#python abstraction\n",
        "#hiding the complex implementation details\n",
        "#showing only the essential features of the object\n",
        "# Importance:\n",
        "\n",
        "# Simplifies code by hiding unnecessary details.\n",
        "# Enhances code maintainability and readability.\n",
        "# Promotes the use of reusable components.\n",
        "# from abc import ABC,abstractmethod - import abstract module\n",
        "\n",
        "from abc import ABC,abstractmethod\n",
        "class Animal(ABC):\n",
        "  @abstractmethod\n",
        "  def method1(self):\n",
        "    print(\"Abstract method\")\n",
        "  def method2(self):\n",
        "    print(\"Concrete method\")\n",
        "\n",
        "class Dog(Animal):\n",
        "  def method1(self):\n",
        "    super().method1()\n",
        "    return\n",
        "\n",
        "obj1 = Dog()\n",
        "obj1.method1()\n",
        "obj1.method2()"
      ],
      "metadata": {
        "colab": {
          "base_uri": "https://localhost:8080/"
        },
        "id": "oWfzhN5vt6gX",
        "outputId": "e5e4a21c-2586-4479-d2fa-1f2e5851850d"
      },
      "execution_count": null,
      "outputs": [
        {
          "output_type": "stream",
          "name": "stdout",
          "text": [
            "Abstract method\n",
            "Concrete method\n"
          ]
        }
      ]
    },
    {
      "cell_type": "code",
      "source": [
        "#Python - Encapsulation\n",
        "# Importance:\n",
        "\n",
        "# Protects the integrity of data by preventing unauthorized access and modification.\n",
        "# Promotes modularity by separating the interface and implementation.\n",
        "# Improves maintainability and flexibility of code.\n",
        "\n",
        "class BankAccount:\n",
        "  def __init__(self,name,balance):\n",
        "    self.name = name\n",
        "    self.__balance = balance\n",
        "  def display(self):\n",
        "    print(f\"Name:{self.name},Balance:{self.__balance}\")\n",
        "  def deposit(self,amount):\n",
        "    if amount > 0:\n",
        "      self.__balance += amount\n",
        "      self.__balance = self.__calculateInterest()\n",
        "      print(f\"Name:{self.name},Balance:{self.__balance}\")\n",
        "  def getbalance(self):\n",
        "    print(self.__balance)\n",
        "  def __calculateInterest(self):\n",
        "    return self.__balance * 0.03 + self.__balance\n",
        "\n",
        "account = BankAccount(\"Vivek\",5000)\n",
        "account.deposit(500)\n",
        "\n",
        "#account.calculateInterest()\n"
      ],
      "metadata": {
        "colab": {
          "base_uri": "https://localhost:8080/"
        },
        "id": "iBGlybB6yMkV",
        "outputId": "23400783-b172-4701-e0b7-06eae1826d99"
      },
      "execution_count": null,
      "outputs": [
        {
          "output_type": "stream",
          "name": "stdout",
          "text": [
            "Name:Vivek,Balance:5665.0\n"
          ]
        }
      ]
    },
    {
      "cell_type": "code",
      "source": [
        "#Python - Inner Classes\n",
        "class Student:\n",
        "  def __init__(self,name):\n",
        "    self.name = name\n",
        "    self.sub = self.subject()\n",
        "  def show(self):\n",
        "    self.sub.display()\n",
        "\n",
        "  class subject:\n",
        "    def __init__(self):\n",
        "      self.sub1 = \"Phisics\"\n",
        "      self.sub2 = \"chemistry\"\n",
        "    def display(self):\n",
        "      print(f\"Subject1:{self.sub1}, Subject2:{self.sub2}\")\n",
        "\n",
        "stud = Student(\"Vivek\")\n",
        "stud.show()"
      ],
      "metadata": {
        "colab": {
          "base_uri": "https://localhost:8080/"
        },
        "id": "eR1E1CW97Tob",
        "outputId": "a1df90c7-dca6-4d8b-e94f-744311141fc1"
      },
      "execution_count": null,
      "outputs": [
        {
          "output_type": "stream",
          "name": "stdout",
          "text": [
            "Subject1:Phisics, Subject2:chemistry\n"
          ]
        }
      ]
    },
    {
      "cell_type": "code",
      "source": [
        "#Python - Enums\n",
        "#Enums (short for enumerations) are a distinct data type\n",
        "#consisting of a set of named values called elements or members\n",
        "#used to define a collection of related constants\n",
        "# Importance:\n",
        "\n",
        "# Improves code readability and maintainability.\n",
        "# Ensures the use of predefined values.\n",
        "# Useful for representing a fixed set of related constants, such as days of the week, states, or directions.\n",
        "#Python provides the enum module to create enumerations.\n",
        "\n",
        "from enum import Enum\n",
        "\n",
        "class Colors(Enum):\n",
        "  RED = 1\n",
        "  GREEN = 2\n",
        "  BLUE = 3\n",
        "print(Colors.RED)\n",
        "print(Colors.RED.name)\n",
        "print(Colors.GREEN.value)\n"
      ],
      "metadata": {
        "colab": {
          "base_uri": "https://localhost:8080/"
        },
        "id": "72H4MMHQxAoc",
        "outputId": "7186558a-187f-4fdb-9bf4-d76782d0d597"
      },
      "execution_count": null,
      "outputs": [
        {
          "output_type": "stream",
          "name": "stdout",
          "text": [
            "Colors.RED\n",
            "RED\n",
            "2\n"
          ]
        }
      ]
    },
    {
      "cell_type": "code",
      "source": [
        "from enum import Enum\n",
        "\n",
        "class Errors(Enum):\n",
        "  ERROR1 = \"Divisible By zero\"\n",
        "  ERROR2 = \"Other erorr\"\n",
        "a =5\n",
        "b= 0\n",
        "if b==0:\n",
        "  print(Errors.ERROR1.value)"
      ],
      "metadata": {
        "colab": {
          "base_uri": "https://localhost:8080/"
        },
        "id": "W0ocdU0xQfkE",
        "outputId": "ece10f3a-f812-4fb4-effe-5b02125936f1"
      },
      "execution_count": null,
      "outputs": [
        {
          "output_type": "stream",
          "name": "stdout",
          "text": [
            "Divisible By zero\n"
          ]
        }
      ]
    },
    {
      "cell_type": "code",
      "source": [
        "#to do list\n",
        "# buy groceries - not done\n",
        "# play chess with daughter - not done\n",
        "# learn python - not done\n",
        "\n",
        "class Task:\n",
        "  def __init__(self,description,is_completed=False):\n",
        "    self.description = description\n",
        "    self.is_completed = is_completed\n",
        "  def __str__(self):\n",
        "    if self.is_completed == True:\n",
        "      status = \"Done\"\n",
        "    else:\n",
        "      status = \"Not Done\"\n",
        "    return f\"{self.description} - {status}\"\n",
        "  def mark_completed(self):\n",
        "    self.is_completed = True\n",
        "\n",
        "class TodoList:\n",
        "  def __init__(self):\n",
        "    self.tasks =[]\n",
        "  def addtask(self,task):\n",
        "    self.tasks.append(task)\n",
        "  def displaytask(self):\n",
        "    for x in self.tasks:\n",
        "      print(x)\n",
        "\n",
        "to_do_list = TodoList()\n",
        "task1 = Task(\"buy groceries\")\n",
        "task2 = Task(\"play chess with daughter\")\n",
        "task3 = Task(\"learn python\")\n",
        "to_do_list.addtask(task1)\n",
        "to_do_list.addtask(task2)\n",
        "to_do_list.addtask(task3)\n",
        "to_do_list.displaytask()\n",
        "task1.mark_completed()\n",
        "task2.mark_completed()\n",
        "to_do_list.displaytask()\n",
        "\n"
      ],
      "metadata": {
        "colab": {
          "base_uri": "https://localhost:8080/"
        },
        "id": "RJmSiaV-354Q",
        "outputId": "ecf5dfc7-48a8-4919-dc69-1e080fc53ee8"
      },
      "execution_count": null,
      "outputs": [
        {
          "output_type": "stream",
          "name": "stdout",
          "text": [
            "buy groceries - Not Done\n",
            "play chess with daughter - Not Done\n",
            "learn python - Not Done\n",
            "buy groceries - Done\n",
            "play chess with daughter - Done\n",
            "learn python - Not Done\n"
          ]
        }
      ]
    },
    {
      "cell_type": "code",
      "source": [
        "# Assignment -1 Library Management system\n",
        "# Create a Book class with attributes bookid,title, author, and is_borrowed (default is False).\n",
        "# Create a Library class with methods to\n",
        "  # add books, display available books, borrow a book, and return a book."
      ],
      "metadata": {
        "id": "l_4YqhRlRaWG"
      },
      "execution_count": null,
      "outputs": []
    },
    {
      "cell_type": "code",
      "source": [
        "# Assignment -2 Students Management System\n",
        "# Create a Student class with attributes name, student_id, and grades (a list of grades).\n",
        "# Create a School class with methods to\n",
        "  # add students, display students, add grades to a student, and calculate the average grade for a student."
      ],
      "metadata": {
        "id": "dXkd7aVGRmyV"
      },
      "execution_count": null,
      "outputs": []
    },
    {
      "cell_type": "code",
      "source": [
        "# Assignment -3 E Commerse System\n",
        "# Create a Product class with attributes name, price, and quantity.\n",
        "# Create a ShoppingCart class with methods to\n",
        "  # add products, remove products, and display the cart's contents."
      ],
      "metadata": {
        "id": "mezjsnh6R7Lv"
      },
      "execution_count": null,
      "outputs": []
    },
    {
      "cell_type": "code",
      "source": [
        "# Assignment -4 Inventory Management System\n",
        "# Create a Item class with attributes name, price, and stock.\n",
        "# Create an Inventory class with methods to\n",
        "  # add items, remove items, update stock levels, and display inventory."
      ],
      "metadata": {
        "id": "INbs87_6SDBQ"
      },
      "execution_count": null,
      "outputs": []
    },
    {
      "cell_type": "code",
      "source": [
        "# Assignment -5 - Weatherstation\n",
        "# Create a WeatherRecord class with attributes\n",
        "  # city, temperature, humidity, and condition (e.g., \"Sunny\", \"Rainy\").\n",
        "# Create a WeatherStation class with methods to\n",
        "  # add records, update records, and display weather data for a specific city or all cities."
      ],
      "metadata": {
        "id": "2Rb0UUEASXf7"
      },
      "execution_count": null,
      "outputs": []
    },
    {
      "cell_type": "code",
      "source": [
        "#python exception Handling\n",
        "# An exception is an error that occurs during the execution of a program,\n",
        "# disrupting the normal flow of instructions.\n",
        "# Common Exceptions:\n",
        "\n",
        "# SyntaxError Example\n",
        "#print(\"Hello World)\n",
        "\n",
        "try:\n",
        "  print(\"Hello\")\n",
        "except:\n",
        "        pass\n",
        "\n",
        "# # TypeError Example\n",
        "#print(1 + \"2\")\n",
        "\n",
        "# # ValueError Example\n",
        "#print(int(\"abc\"))\n",
        "\n",
        "# # IndexError Example\n",
        "# my_list = [1, 2, 3]\n",
        "# print(my_list[5])\n",
        "\n",
        "# # KeyError Example\n",
        "# my_dict = {\"name\": \"John\"}\n",
        "# print(my_dict[\"age\"])"
      ],
      "metadata": {
        "colab": {
          "base_uri": "https://localhost:8080/"
        },
        "id": "heCqE0JcfamA",
        "outputId": "282f38b1-f3dd-40aa-b43a-74b20becf6a6"
      },
      "execution_count": null,
      "outputs": [
        {
          "output_type": "stream",
          "name": "stdout",
          "text": [
            "Hello\n"
          ]
        }
      ]
    },
    {
      "cell_type": "code",
      "source": [
        "# Basic Exception Handling with try and except\n",
        "# General Structure:\n",
        "  try:\n",
        "    # code that might cause an exception\n",
        "  except:\n",
        "    # code that runs if any exception occurs\n",
        "#Normal Structure\n",
        "  try:\n",
        "    # code that might cause an exception\n",
        "  except ExceptionType:\n",
        "    # code that runs if the exception occurs\n",
        "\n"
      ],
      "metadata": {
        "id": "PQpx-1mvgBBB"
      },
      "execution_count": null,
      "outputs": []
    },
    {
      "cell_type": "code",
      "source": [
        "object\n",
        "   BaseException\n",
        "      Exception\n",
        "         ArithmeticError\n",
        "            FloatingPointError\n",
        "            OverflowError\n",
        "            ZeroDivisionError\n",
        "         AssertionError\n",
        "         AttributeError\n",
        "         BufferError\n",
        "         EOFError\n",
        "         ImportError\n",
        "            ModuleNotFoundError\n",
        "         LookupError\n",
        "            IndexError\n",
        "            KeyError\n",
        "         MemoryError\n",
        "         NameError\n",
        "         OSError\n",
        "         ReferenceError\n",
        "         RuntimeError\n",
        "         StopAsyncIteration\n",
        "         StopIteration\n",
        "         SyntaxError"
      ],
      "metadata": {
        "id": "IyfX6gHqg0u-"
      },
      "execution_count": null,
      "outputs": []
    },
    {
      "cell_type": "code",
      "source": [
        "# Handling a ZeroDivisionError\n",
        "try:\n",
        "  resul = 10/0\n",
        "  print(result)\n",
        "except ZeroDivisionError:\n",
        "  #print(\"divisible by zero not allowed\")\n",
        "  pass\n",
        "#general exception Handling\n",
        "try:\n",
        "  number = int(input(\"Enter a number\"))\n",
        "  print(10/number)\n",
        "except ZeroDivisionError:\n",
        "  print(\"Zero Division not allowed\")\n",
        "except ValueError:\n",
        "  print(\"Please enter a valid number\")\n",
        "except:\n",
        "  print(\"There is general exception occured\")"
      ],
      "metadata": {
        "id": "8Zn_XAPOikKv"
      },
      "execution_count": null,
      "outputs": []
    },
    {
      "cell_type": "code",
      "source": [
        "# Using else and finally with Exception Handling\n",
        "# else Clause:\n",
        "# The code inside the else block runs if no exceptions were raised.\n",
        "try:\n",
        "    # code that might cause an exception\n",
        "except ExceptionType:\n",
        "    # code that runs if the exception occurs\n",
        "else:\n",
        "    # code that runs if no exception occurs\n",
        "\n",
        "# finally Clause:\n",
        "# The code inside the finally block always runs,\n",
        "# regardless of whether an exception was raised or not.\n",
        "try:\n",
        "    # code that might cause an exception\n",
        "except ExceptionType:\n",
        "    # code that runs if the exception occurs\n",
        "finally:\n",
        "    # code that always runs\n"
      ],
      "metadata": {
        "id": "ut6TXP-EjwXZ"
      },
      "execution_count": null,
      "outputs": []
    },
    {
      "cell_type": "code",
      "source": [
        "# Using else\n",
        "# try:\n",
        "#   number = int(input(\"Enter a Number:\"))\n",
        "# except ValueError:\n",
        "#   print(\"Please Enter a Valid number\")\n",
        "# else:\n",
        "#   print(number)\n",
        "# Using finally\n",
        "try:\n",
        "  number = int(input(\"Enter a Number\"))\n",
        "except ValueError:\n",
        "  print( \"Please enter a Valid Number\" )\n",
        "finally:\n",
        "  print(\"This execute Always\")"
      ],
      "metadata": {
        "colab": {
          "base_uri": "https://localhost:8080/"
        },
        "id": "g4vfh-1qk6XJ",
        "outputId": "243b8451-d7db-4582-a389-bd464083bfe2"
      },
      "execution_count": null,
      "outputs": [
        {
          "output_type": "stream",
          "name": "stdout",
          "text": [
            "Enter a Numbera\n",
            "Please enter a Valid Number\n",
            "This execute Always\n"
          ]
        }
      ]
    },
    {
      "cell_type": "code",
      "source": [
        "try:\n",
        "  a = 10\n",
        "  b ='30'\n",
        "\n",
        "  print(a+b)\n",
        "  print(a-b)\n",
        "  print(a*b)\n",
        "  print(a/b)\n",
        "except:\n",
        "  if b == 0:\n",
        "    print(\"Division by zero is not possible\")\n",
        "  if not isinstance(a,int) or not isinstance(b,int):\n",
        "    print(\"Type Error\")\n",
        "  else:\n",
        "    print(\"either value error or syntax error\")"
      ],
      "metadata": {
        "colab": {
          "base_uri": "https://localhost:8080/"
        },
        "id": "BD0qTPkjoh_-",
        "outputId": "a58c6788-4206-466a-be55-69c8241fac15"
      },
      "execution_count": null,
      "outputs": [
        {
          "output_type": "stream",
          "name": "stdout",
          "text": [
            "Type Error\n"
          ]
        }
      ]
    },
    {
      "cell_type": "code",
      "source": [
        "# Catching Specific Exceptions:\n",
        "# It's a good practice to catch specific exceptions instead of using a general except clause.\n",
        "\n",
        "except IndexError\n",
        "except ZeroDivisionError\n",
        "except SyntaxError"
      ],
      "metadata": {
        "id": "se_PsuOHj6Hb"
      },
      "execution_count": null,
      "outputs": []
    },
    {
      "cell_type": "code",
      "source": [
        "# Using raise:\n",
        "# The raise statement allows you to force a specified exception to occur.\n",
        "def check_positive(number):\n",
        "  if  number < 0:\n",
        "    raise ValueError(\"Negative Number\")\n",
        "  print(number)\n",
        "try:\n",
        "  check_positive(-10)\n",
        "except ValueError as ve:\n",
        "  print(ve)"
      ],
      "metadata": {
        "id": "Be_9UmkdmBrx",
        "colab": {
          "base_uri": "https://localhost:8080/"
        },
        "outputId": "99e9c0fa-08a1-442d-cd75-f79515f8dda4"
      },
      "execution_count": null,
      "outputs": [
        {
          "output_type": "stream",
          "name": "stdout",
          "text": [
            "Negative Number\n"
          ]
        }
      ]
    },
    {
      "cell_type": "code",
      "source": [
        "# Defining Custom Exceptions:\n",
        "# Custom exceptions are created by defining a new class that inherits from the built-in Exception class.\n",
        "class NegativeNumberError(Exception):\n",
        "    def __init__(self, message=\"Negative numbers are not allowed\"):\n",
        "        self.message = message\n",
        "        print(self.message)\n",
        "\n",
        "def check_positive(number):\n",
        "    if number < 0:\n",
        "        raise NegativeNumberError\n",
        "    return number\n",
        "\n",
        "try:\n",
        "    print(check_positive(-10))\n",
        "except NegativeNumberError as nne:\n",
        "    print(nne)\n"
      ],
      "metadata": {
        "colab": {
          "base_uri": "https://localhost:8080/"
        },
        "id": "WKoyO00qnu0C",
        "outputId": "2c679b9d-2d4e-449d-996e-8e884ae3539b"
      },
      "execution_count": null,
      "outputs": [
        {
          "output_type": "stream",
          "name": "stdout",
          "text": [
            "Negative numbers are not allowed\n",
            "\n"
          ]
        }
      ]
    },
    {
      "cell_type": "code",
      "source": [],
      "metadata": {
        "colab": {
          "base_uri": "https://localhost:8080/"
        },
        "id": "yHnF55iwsd34",
        "outputId": "8bc74494-4cd7-411d-f241-8eff6c8d6ca5"
      },
      "execution_count": null,
      "outputs": [
        {
          "output_type": "stream",
          "name": "stdout",
          "text": [
            "True\n"
          ]
        }
      ]
    },
    {
      "cell_type": "code",
      "execution_count": null,
      "metadata": {
        "id": "GJBT1s_q00xi"
      },
      "outputs": [],
      "source": [
        "import random\n",
        "\n",
        "def guess_number():\n",
        "    print(\"Think of a number between 1 and 100, and I will try to guess it.\")\n",
        "\n",
        "    lower_bound = 1\n",
        "    upper_bound = 100\n",
        "    guessed_correctly = False\n",
        "\n",
        "    while not guessed_correctly:\n",
        "        guess = random.randint(lower_bound, upper_bound)\n",
        "        print(f\"My guess is {guess}.\")\n",
        "\n",
        "        user_input = input(\"Enter 'l' if your number is less than my guess, 'g' if your number is greater, or 'ok' if I guessed it correctly: \").strip().lower()\n",
        "\n",
        "        if user_input == 'l':\n",
        "            upper_bound = guess - 1\n",
        "        elif user_input == 'g':\n",
        "            lower_bound = guess + 1\n",
        "        elif user_input == 'ok':\n",
        "            guessed_correctly = True\n",
        "            print(\"Yay! I guessed your number correctly!\")\n",
        "        else:\n",
        "            print(\"Invalid input. Please enter 'l', 'g', or 'ok'.\")\n",
        "\n",
        "# Start the guessing game\n",
        "guess_number()\n"
      ]
    },
    {
      "cell_type": "code",
      "source": [
        "# What is Logging?\n",
        "\n",
        "# Definition: Logging is the process of recording messages to capture information about the program's execution.\n",
        "# Uses: Debugging, monitoring, and maintaining applications.\n",
        "\n",
        "# Importance of Logging:\n",
        "\n",
        "# Helps in diagnosing issues.\n",
        "# Provides insight into the program’s flow.\n",
        "# Useful for auditing and tracking the state of an application over time.\n",
        "\n",
        "# Basic Logging Concepts:\n",
        "\n",
        "# Log Message: The actual message you want to record.\n",
        "# Log Level: Indicates the importance/severity of the log message.\n",
        "\n",
        "# Common Log Levels:\n",
        "\n",
        "# DEBUG: Detailed information for diagnosing problems.\n",
        "# INFO: Confirmation that things are working as expected.\n",
        "# WARNING: Indication that something unexpected happened, or indicative of some problem in the near future.\n",
        "# ERROR: Due to a more serious problem, the software has not been able to perform some function.\n",
        "# CRITICAL: A very serious error, indicating the program itself may be unable to continue running.\n",
        "\n",
        "#  Getting Started with Python Logging\n",
        "# Importing the Logging Module:\n",
        "import logging\n",
        "\n",
        "# Basic Configuration and Logging Levels\n",
        "logging.basicConfig(level=logging.DEBUG)\n",
        "\n",
        "# Logging Messages\n",
        "logging.debug('This is a debug message')\n",
        "logging.info('This is an info message')\n",
        "logging.warning('This is a warning message')\n",
        "logging.error('This is an error message')\n",
        "logging.critical('This is a critical message')\n",
        "\n",
        "# Advanced Logging Configuration\n",
        "logging.basicConfig(file='example.log',format='%(asctime)s - %(name)s - %(levelname)s - %(message)s',filemode='a')\n",
        "# Creating an object\n",
        "logger = logging.getLogger()\n",
        "# Setting the threshold of logger to DEBUG\n",
        "logger.setLevel(logging.DEBUG)"
      ],
      "metadata": {
        "id": "vCEdbgCeiOUx"
      },
      "execution_count": null,
      "outputs": []
    },
    {
      "cell_type": "code",
      "source": [
        "#logging Example\n",
        "import logging\n",
        "logging.basicConfig(filename=\"./operation.txt\",\n",
        "                    format='%(asctime)s %(message)s',\n",
        "                    filemode='w')\n",
        "logger = logging.getLogger()\n",
        "logger.setLevel(logging.DEBUG)\n",
        "\n",
        "logger.debug(\"Harmless debug Message\")\n",
        "logger.info(\"Just an information\")\n",
        "logger.warning(\"Its a Warning\")\n",
        "logger.error(\"Did you try to divide by zero\")\n",
        "logger.critical(\"Internet is down\")"
      ],
      "metadata": {
        "colab": {
          "base_uri": "https://localhost:8080/"
        },
        "id": "L2Sf0U5aipZi",
        "outputId": "ed9385d4-04e6-459a-f661-f40777dc525e"
      },
      "execution_count": null,
      "outputs": [
        {
          "output_type": "stream",
          "name": "stderr",
          "text": [
            "DEBUG:root:Harmless debug Message\n",
            "INFO:root:Just an information\n",
            "WARNING:root:Its a Warning\n",
            "ERROR:root:Did you try to divide by zero\n",
            "CRITICAL:root:Internet is down\n"
          ]
        }
      ]
    },
    {
      "cell_type": "code",
      "source": [
        "{key1:\"string\",Key2:123}"
      ],
      "metadata": {
        "id": "KveHYk7_yVP-"
      },
      "execution_count": null,
      "outputs": []
    },
    {
      "cell_type": "code",
      "source": [
        "# What is an RDBMS?\n",
        "\n",
        "# Definition: An RDBMS is a database management system based on the relational model.\n",
        "# Characteristics: Uses tables to store data, supports SQL\n",
        "\n",
        "# Key Concepts and Components\n",
        "\n",
        "# Tables, Rows, and Columns\n",
        "# Primary Key and Foreign Key\n",
        "# Normalization and Denormalization\n",
        "# SQL (Structured Query Language)\n",
        "\n",
        "# Popular RDBMS Examples\n",
        "\n",
        "# MySQL, PostgreSQL, Oracle, Microsoft SQL Server, Mongo DB(NoSQL)\n",
        "\n",
        "# Introduction to SQLite3\n",
        "# What is SQLite3?\n",
        "\n",
        "# Definition: SQLite3 is a self-contained, serverless, zero-configuration, transactional SQL database engine.\n",
        "# Lightweight and easy to use, suitable for embedded systems and applications.\n",
        "\n",
        "# Use Cases and Benefits\n",
        "\n",
        "# Ideal for local storage in applications\n",
        "# No setup or administration required"
      ],
      "metadata": {
        "colab": {
          "base_uri": "https://localhost:8080/"
        },
        "id": "pYbc4x7ZmYeQ",
        "outputId": "68366be0-f3cc-4879-9f5e-52ba995d2c4f"
      },
      "execution_count": null,
      "outputs": [
        {
          "output_type": "stream",
          "name": "stderr",
          "text": [
            "INFO:root:an info messge\n"
          ]
        }
      ]
    },
    {
      "cell_type": "code",
      "source": [
        "import sqlite3\n",
        "conn = sqlite3.connect(\"Example.db\")\n",
        "cursor = conn.cursor()"
      ],
      "metadata": {
        "id": "3T8blSVioOJe"
      },
      "execution_count": null,
      "outputs": []
    },
    {
      "cell_type": "code",
      "source": [
        "cursor.execute(\"CREATE TABLE IF NOT EXISTS users (id INTEGER PRIMARY KEY,Name TEXT,Age INTEGER)\")"
      ],
      "metadata": {
        "colab": {
          "base_uri": "https://localhost:8080/"
        },
        "id": "8vI7HYnqo4p9",
        "outputId": "116e6637-f1eb-40ae-9c58-50fd6da273e7"
      },
      "execution_count": null,
      "outputs": [
        {
          "output_type": "execute_result",
          "data": {
            "text/plain": [
              "<sqlite3.Cursor at 0x7987160573c0>"
            ]
          },
          "metadata": {},
          "execution_count": 4
        }
      ]
    },
    {
      "cell_type": "code",
      "source": [
        "cursor.execute(\"INSERT INTO users(Name,Age) VALUES ('BOB',48)\")\n",
        "conn.commit()"
      ],
      "metadata": {
        "id": "JnFJUX-LpY70"
      },
      "execution_count": null,
      "outputs": []
    },
    {
      "cell_type": "code",
      "source": [
        "name = \"Vivek\"\n",
        "age = 36\n",
        "cursor.execute(\"INSERT INTO users(Name,Age) VALUES (?,?)\",(name,age))\n",
        "conn.commit()"
      ],
      "metadata": {
        "id": "Pt_iJET2qRGc"
      },
      "execution_count": null,
      "outputs": []
    },
    {
      "cell_type": "code",
      "source": [
        "cursor.execute(\"SELECT * FROM users\")\n",
        "rows = cursor.fetchall()\n",
        "for row in rows:\n",
        "  print(row)"
      ],
      "metadata": {
        "id": "z5coGjOaprUo"
      },
      "execution_count": null,
      "outputs": []
    },
    {
      "cell_type": "code",
      "source": [
        "#sqlit3 demo\n",
        "\n",
        "import sqlite3 # importing sqlite3\n",
        "\n",
        "conn = sqlite3.connect(\"example.db\")#connecting and initializing the db\n",
        "cur = conn.cursor() #creating cursor object for executing queries"
      ],
      "metadata": {
        "id": "24Yl3EhfyUcO"
      },
      "execution_count": null,
      "outputs": []
    },
    {
      "cell_type": "code",
      "source": [
        "cur.execute(\"CREATE TABLE user(id INTEGER PRIMARY KEY,name TEXT,email TEXT)\")#create table query\n",
        "conn.commit() # save"
      ],
      "metadata": {
        "id": "0VxnXzAE3eXm"
      },
      "execution_count": null,
      "outputs": []
    },
    {
      "cell_type": "code",
      "source": [
        "#fetch data from db\n",
        "cur.execute(\"SELECT * FROM user\")\n",
        "rows = cur.fetchall()"
      ],
      "metadata": {
        "id": "4203iLwB4RgU"
      },
      "execution_count": null,
      "outputs": []
    },
    {
      "cell_type": "code",
      "source": [
        "#insert values to database\n",
        "cur.execute(\"INSERT INTO user(name,email) VALUES('ABC','abc@mail.com')\")\n",
        "conn.commit()"
      ],
      "metadata": {
        "id": "mn_E_zjL4fCO"
      },
      "execution_count": null,
      "outputs": []
    },
    {
      "cell_type": "code",
      "source": [
        "#fetch data and display values\n",
        "cur.execute(\"SELECT * FROM user\")\n",
        "rows = cur.fetchall()\n",
        "for row in rows:\n",
        "  print(row)"
      ],
      "metadata": {
        "colab": {
          "base_uri": "https://localhost:8080/"
        },
        "id": "i7UCUcE444uy",
        "outputId": "54a222b6-239d-4acf-e1aa-c7f51cb5c53f"
      },
      "execution_count": null,
      "outputs": [
        {
          "output_type": "stream",
          "name": "stdout",
          "text": [
            "(1, 'qwe', 'qwe@mail.com')\n",
            "(2, 'xyz', 'xyz@mail.com')\n"
          ]
        }
      ]
    },
    {
      "cell_type": "code",
      "source": [
        "cur.execute(\"UPDATE user SET name='xyz',email ='xyz@mail.com' where id =2\")"
      ],
      "metadata": {
        "colab": {
          "base_uri": "https://localhost:8080/"
        },
        "id": "j3YK7n9X5D5x",
        "outputId": "0b526ff8-2c1a-4d7a-e145-5236538fc335"
      },
      "execution_count": null,
      "outputs": [
        {
          "output_type": "execute_result",
          "data": {
            "text/plain": [
              "<sqlite3.Cursor at 0x7c49e10cb1c0>"
            ]
          },
          "metadata": {},
          "execution_count": 9
        }
      ]
    },
    {
      "cell_type": "code",
      "source": [
        "cur.execute(\"UPDATE user SET name=?,email =? where id =?\",('qwe','qwe@mail.com',1))"
      ],
      "metadata": {
        "colab": {
          "base_uri": "https://localhost:8080/"
        },
        "id": "-Pd2Fpxv5YQx",
        "outputId": "23c67d8b-e95d-40f6-c5b5-d7b0dfdf9d5e"
      },
      "execution_count": null,
      "outputs": [
        {
          "output_type": "execute_result",
          "data": {
            "text/plain": [
              "<sqlite3.Cursor at 0x7c49e10cb1c0>"
            ]
          },
          "metadata": {},
          "execution_count": 11
        }
      ]
    },
    {
      "cell_type": "code",
      "source": [
        "name_a = 'Vivek'\n",
        "mail_a = 'vivek@mail.com'\n",
        "cur.execute(\"INSERT INTO user(name,email) VALUES(?,?)\",(name_a,mail_a))"
      ],
      "metadata": {
        "colab": {
          "base_uri": "https://localhost:8080/"
        },
        "id": "9OUI7Wl15oIx",
        "outputId": "8333cf1b-230d-4158-9da8-4e3e708efb12"
      },
      "execution_count": null,
      "outputs": [
        {
          "output_type": "execute_result",
          "data": {
            "text/plain": [
              "<sqlite3.Cursor at 0x7c49e10cb1c0>"
            ]
          },
          "metadata": {},
          "execution_count": 13
        }
      ]
    },
    {
      "cell_type": "code",
      "source": [
        "cur.execute(\"SELECT * FROM user\")\n",
        "rows = cur.fetchall()\n",
        "for row in rows:\n",
        "  print(row)"
      ],
      "metadata": {
        "colab": {
          "base_uri": "https://localhost:8080/"
        },
        "id": "vljGCRMf57S9",
        "outputId": "299587e3-4bc7-407c-bc7f-9784ceb84a39"
      },
      "execution_count": null,
      "outputs": [
        {
          "output_type": "stream",
          "name": "stdout",
          "text": [
            "(1, 'qwe', 'qwe@mail.com')\n",
            "(2, 'xyz', 'xyz@mail.com')\n",
            "(3, 'Vivek', 'vivek@mail.com')\n"
          ]
        }
      ]
    },
    {
      "cell_type": "code",
      "source": [
        "cur.execute(\"CREATE TABLE IF NOT EXISTS product(id INTEGER PRIMARY KEY,user_id INTEGER,quantity INTIGER,amount INTEGER)\")"
      ],
      "metadata": {
        "colab": {
          "base_uri": "https://localhost:8080/"
        },
        "id": "NFFCA4ec6FeG",
        "outputId": "5f0eb3ef-c1a8-416f-ccdc-1318eee3be97"
      },
      "execution_count": null,
      "outputs": [
        {
          "output_type": "execute_result",
          "data": {
            "text/plain": [
              "<sqlite3.Cursor at 0x7c49e10cb1c0>"
            ]
          },
          "metadata": {},
          "execution_count": 15
        }
      ]
    },
    {
      "cell_type": "code",
      "source": [
        "try:\n",
        "  cur.execute(\"SELECT * FROM user order by id desc\")\n",
        "  rows = cur.fetchone()\n",
        "  print(rows)\n",
        "except:\n",
        "  print(\"exception occured\")"
      ],
      "metadata": {
        "colab": {
          "base_uri": "https://localhost:8080/"
        },
        "id": "9C6fO2Bf6aUo",
        "outputId": "9c3ec319-c4d8-4d21-934d-01c6eea79595"
      },
      "execution_count": null,
      "outputs": [
        {
          "output_type": "stream",
          "name": "stdout",
          "text": [
            "(3, 'Vivek', 'vivek@mail.com')\n"
          ]
        }
      ]
    },
    {
      "cell_type": "code",
      "source": [
        "#Some useful python Libraries\n",
        "#numpy - numerical python\n"
      ],
      "metadata": {
        "id": "OWovRuuo6fWh"
      },
      "execution_count": null,
      "outputs": []
    },
    {
      "cell_type": "code",
      "source": [
        "!pip install numpy"
      ],
      "metadata": {
        "colab": {
          "base_uri": "https://localhost:8080/"
        },
        "id": "v_z-3SQ887l2",
        "outputId": "a0843f55-418d-44c0-8449-566efbaf1a98"
      },
      "execution_count": null,
      "outputs": [
        {
          "output_type": "stream",
          "name": "stdout",
          "text": [
            "Requirement already satisfied: numpy in /usr/local/lib/python3.10/dist-packages (1.25.2)\n"
          ]
        }
      ]
    },
    {
      "cell_type": "code",
      "source": [
        "import numpy as np\n",
        "list_var = [[1,2,3,4],[3,4,5,6]]\n",
        "arr = np.array([1,2,3])\n",
        "arr2 = np.array([[1,2,3],[4,5,6]])#multi diamensional array\n",
        "arr3 = np.array([[9,8,7],[6,5,4]])\n",
        "print(arr2.reshape(3,2))"
      ],
      "metadata": {
        "colab": {
          "base_uri": "https://localhost:8080/"
        },
        "id": "vu3FRpdY86LR",
        "outputId": "0cd31f64-0839-4151-b509-3d5ab755e520"
      },
      "execution_count": null,
      "outputs": [
        {
          "output_type": "stream",
          "name": "stdout",
          "text": [
            "[[1 2]\n",
            " [3 4]\n",
            " [5 6]]\n"
          ]
        }
      ]
    },
    {
      "cell_type": "code",
      "source": [
        "import numpy as np\n",
        "matrix1 = np.array([[1,2,3],[4,5,6]])\n",
        "matrix2 = np.array([[3,4],[5,6],[2,3]])\n",
        "matrix3 = np.array([[1,3,5],[4,6,8]])\n",
        "print(f\"Matrix1:{matrix1}\")\n",
        "print(f\"Matrix1:{matrix2}\")\n",
        "print(\"---------------\")\n",
        "print(f\"Addition:{matrix1 + matrix3}\")\n",
        "print(\"---------------\")\n",
        "print(f\"Multiplication: {np.matmul(matrix1,matrix2)}\")\n",
        "print(\"---------------\")\n",
        "print(f\"Reshaping:{matrix1.reshape(6,1)}\")"
      ],
      "metadata": {
        "colab": {
          "base_uri": "https://localhost:8080/"
        },
        "id": "xVPdg2BC-hoC",
        "outputId": "c1f1cb40-37da-414a-d808-4aa271201c58"
      },
      "execution_count": null,
      "outputs": [
        {
          "output_type": "stream",
          "name": "stdout",
          "text": [
            "Matrix1:[[1 2 3]\n",
            " [4 5 6]]\n",
            "Matrix1:[[3 4]\n",
            " [5 6]\n",
            " [2 3]]\n",
            "---------------\n",
            "Addition:[[ 2  5  8]\n",
            " [ 8 11 14]]\n",
            "---------------\n",
            "Multiplication: [[19 25]\n",
            " [49 64]]\n",
            "---------------\n",
            "Reshaping:[[1]\n",
            " [2]\n",
            " [3]\n",
            " [4]\n",
            " [5]\n",
            " [6]]\n"
          ]
        }
      ]
    },
    {
      "cell_type": "code",
      "source": [
        "#pandas\n",
        "!pip install pandas"
      ],
      "metadata": {
        "colab": {
          "base_uri": "https://localhost:8080/"
        },
        "id": "BaUnzoiBCbGV",
        "outputId": "d2e07b0e-ac74-4955-f514-5fa859b040ff"
      },
      "execution_count": null,
      "outputs": [
        {
          "output_type": "stream",
          "name": "stdout",
          "text": [
            "Requirement already satisfied: pandas in /usr/local/lib/python3.10/dist-packages (2.0.3)\n",
            "Requirement already satisfied: python-dateutil>=2.8.2 in /usr/local/lib/python3.10/dist-packages (from pandas) (2.8.2)\n",
            "Requirement already satisfied: pytz>=2020.1 in /usr/local/lib/python3.10/dist-packages (from pandas) (2023.4)\n",
            "Requirement already satisfied: tzdata>=2022.1 in /usr/local/lib/python3.10/dist-packages (from pandas) (2024.1)\n",
            "Requirement already satisfied: numpy>=1.21.0 in /usr/local/lib/python3.10/dist-packages (from pandas) (1.25.2)\n",
            "Requirement already satisfied: six>=1.5 in /usr/local/lib/python3.10/dist-packages (from python-dateutil>=2.8.2->pandas) (1.16.0)\n"
          ]
        }
      ]
    },
    {
      "cell_type": "code",
      "source": [
        "import pandas as pd\n",
        "\n",
        "data = {\"name\":['Alice','Bob','David'],\"score\":[86,56,43]}\n",
        "df = pd.DataFrame(data)\n",
        "df['mean'] = df['score'].mean()\n",
        "df[['name','mean']]"
      ],
      "metadata": {
        "colab": {
          "base_uri": "https://localhost:8080/",
          "height": 143
        },
        "id": "LScCUy7MCxLs",
        "outputId": "b09c5a1b-3363-4464-f847-df0dad3f1123"
      },
      "execution_count": null,
      "outputs": [
        {
          "output_type": "execute_result",
          "data": {
            "text/plain": [
              "    name       mean\n",
              "0  Alice  61.666667\n",
              "1    Bob  61.666667\n",
              "2  David  61.666667"
            ],
            "text/html": [
              "\n",
              "  <div id=\"df-94e11868-fc2d-496b-9f97-bccf78828c16\" class=\"colab-df-container\">\n",
              "    <div>\n",
              "<style scoped>\n",
              "    .dataframe tbody tr th:only-of-type {\n",
              "        vertical-align: middle;\n",
              "    }\n",
              "\n",
              "    .dataframe tbody tr th {\n",
              "        vertical-align: top;\n",
              "    }\n",
              "\n",
              "    .dataframe thead th {\n",
              "        text-align: right;\n",
              "    }\n",
              "</style>\n",
              "<table border=\"1\" class=\"dataframe\">\n",
              "  <thead>\n",
              "    <tr style=\"text-align: right;\">\n",
              "      <th></th>\n",
              "      <th>name</th>\n",
              "      <th>mean</th>\n",
              "    </tr>\n",
              "  </thead>\n",
              "  <tbody>\n",
              "    <tr>\n",
              "      <th>0</th>\n",
              "      <td>Alice</td>\n",
              "      <td>61.666667</td>\n",
              "    </tr>\n",
              "    <tr>\n",
              "      <th>1</th>\n",
              "      <td>Bob</td>\n",
              "      <td>61.666667</td>\n",
              "    </tr>\n",
              "    <tr>\n",
              "      <th>2</th>\n",
              "      <td>David</td>\n",
              "      <td>61.666667</td>\n",
              "    </tr>\n",
              "  </tbody>\n",
              "</table>\n",
              "</div>\n",
              "    <div class=\"colab-df-buttons\">\n",
              "\n",
              "  <div class=\"colab-df-container\">\n",
              "    <button class=\"colab-df-convert\" onclick=\"convertToInteractive('df-94e11868-fc2d-496b-9f97-bccf78828c16')\"\n",
              "            title=\"Convert this dataframe to an interactive table.\"\n",
              "            style=\"display:none;\">\n",
              "\n",
              "  <svg xmlns=\"http://www.w3.org/2000/svg\" height=\"24px\" viewBox=\"0 -960 960 960\">\n",
              "    <path d=\"M120-120v-720h720v720H120Zm60-500h600v-160H180v160Zm220 220h160v-160H400v160Zm0 220h160v-160H400v160ZM180-400h160v-160H180v160Zm440 0h160v-160H620v160ZM180-180h160v-160H180v160Zm440 0h160v-160H620v160Z\"/>\n",
              "  </svg>\n",
              "    </button>\n",
              "\n",
              "  <style>\n",
              "    .colab-df-container {\n",
              "      display:flex;\n",
              "      gap: 12px;\n",
              "    }\n",
              "\n",
              "    .colab-df-convert {\n",
              "      background-color: #E8F0FE;\n",
              "      border: none;\n",
              "      border-radius: 50%;\n",
              "      cursor: pointer;\n",
              "      display: none;\n",
              "      fill: #1967D2;\n",
              "      height: 32px;\n",
              "      padding: 0 0 0 0;\n",
              "      width: 32px;\n",
              "    }\n",
              "\n",
              "    .colab-df-convert:hover {\n",
              "      background-color: #E2EBFA;\n",
              "      box-shadow: 0px 1px 2px rgba(60, 64, 67, 0.3), 0px 1px 3px 1px rgba(60, 64, 67, 0.15);\n",
              "      fill: #174EA6;\n",
              "    }\n",
              "\n",
              "    .colab-df-buttons div {\n",
              "      margin-bottom: 4px;\n",
              "    }\n",
              "\n",
              "    [theme=dark] .colab-df-convert {\n",
              "      background-color: #3B4455;\n",
              "      fill: #D2E3FC;\n",
              "    }\n",
              "\n",
              "    [theme=dark] .colab-df-convert:hover {\n",
              "      background-color: #434B5C;\n",
              "      box-shadow: 0px 1px 3px 1px rgba(0, 0, 0, 0.15);\n",
              "      filter: drop-shadow(0px 1px 2px rgba(0, 0, 0, 0.3));\n",
              "      fill: #FFFFFF;\n",
              "    }\n",
              "  </style>\n",
              "\n",
              "    <script>\n",
              "      const buttonEl =\n",
              "        document.querySelector('#df-94e11868-fc2d-496b-9f97-bccf78828c16 button.colab-df-convert');\n",
              "      buttonEl.style.display =\n",
              "        google.colab.kernel.accessAllowed ? 'block' : 'none';\n",
              "\n",
              "      async function convertToInteractive(key) {\n",
              "        const element = document.querySelector('#df-94e11868-fc2d-496b-9f97-bccf78828c16');\n",
              "        const dataTable =\n",
              "          await google.colab.kernel.invokeFunction('convertToInteractive',\n",
              "                                                    [key], {});\n",
              "        if (!dataTable) return;\n",
              "\n",
              "        const docLinkHtml = 'Like what you see? Visit the ' +\n",
              "          '<a target=\"_blank\" href=https://colab.research.google.com/notebooks/data_table.ipynb>data table notebook</a>'\n",
              "          + ' to learn more about interactive tables.';\n",
              "        element.innerHTML = '';\n",
              "        dataTable['output_type'] = 'display_data';\n",
              "        await google.colab.output.renderOutput(dataTable, element);\n",
              "        const docLink = document.createElement('div');\n",
              "        docLink.innerHTML = docLinkHtml;\n",
              "        element.appendChild(docLink);\n",
              "      }\n",
              "    </script>\n",
              "  </div>\n",
              "\n",
              "\n",
              "<div id=\"df-b02a0f7d-7d07-4c8d-a997-9c573a3ed780\">\n",
              "  <button class=\"colab-df-quickchart\" onclick=\"quickchart('df-b02a0f7d-7d07-4c8d-a997-9c573a3ed780')\"\n",
              "            title=\"Suggest charts\"\n",
              "            style=\"display:none;\">\n",
              "\n",
              "<svg xmlns=\"http://www.w3.org/2000/svg\" height=\"24px\"viewBox=\"0 0 24 24\"\n",
              "     width=\"24px\">\n",
              "    <g>\n",
              "        <path d=\"M19 3H5c-1.1 0-2 .9-2 2v14c0 1.1.9 2 2 2h14c1.1 0 2-.9 2-2V5c0-1.1-.9-2-2-2zM9 17H7v-7h2v7zm4 0h-2V7h2v10zm4 0h-2v-4h2v4z\"/>\n",
              "    </g>\n",
              "</svg>\n",
              "  </button>\n",
              "\n",
              "<style>\n",
              "  .colab-df-quickchart {\n",
              "      --bg-color: #E8F0FE;\n",
              "      --fill-color: #1967D2;\n",
              "      --hover-bg-color: #E2EBFA;\n",
              "      --hover-fill-color: #174EA6;\n",
              "      --disabled-fill-color: #AAA;\n",
              "      --disabled-bg-color: #DDD;\n",
              "  }\n",
              "\n",
              "  [theme=dark] .colab-df-quickchart {\n",
              "      --bg-color: #3B4455;\n",
              "      --fill-color: #D2E3FC;\n",
              "      --hover-bg-color: #434B5C;\n",
              "      --hover-fill-color: #FFFFFF;\n",
              "      --disabled-bg-color: #3B4455;\n",
              "      --disabled-fill-color: #666;\n",
              "  }\n",
              "\n",
              "  .colab-df-quickchart {\n",
              "    background-color: var(--bg-color);\n",
              "    border: none;\n",
              "    border-radius: 50%;\n",
              "    cursor: pointer;\n",
              "    display: none;\n",
              "    fill: var(--fill-color);\n",
              "    height: 32px;\n",
              "    padding: 0;\n",
              "    width: 32px;\n",
              "  }\n",
              "\n",
              "  .colab-df-quickchart:hover {\n",
              "    background-color: var(--hover-bg-color);\n",
              "    box-shadow: 0 1px 2px rgba(60, 64, 67, 0.3), 0 1px 3px 1px rgba(60, 64, 67, 0.15);\n",
              "    fill: var(--button-hover-fill-color);\n",
              "  }\n",
              "\n",
              "  .colab-df-quickchart-complete:disabled,\n",
              "  .colab-df-quickchart-complete:disabled:hover {\n",
              "    background-color: var(--disabled-bg-color);\n",
              "    fill: var(--disabled-fill-color);\n",
              "    box-shadow: none;\n",
              "  }\n",
              "\n",
              "  .colab-df-spinner {\n",
              "    border: 2px solid var(--fill-color);\n",
              "    border-color: transparent;\n",
              "    border-bottom-color: var(--fill-color);\n",
              "    animation:\n",
              "      spin 1s steps(1) infinite;\n",
              "  }\n",
              "\n",
              "  @keyframes spin {\n",
              "    0% {\n",
              "      border-color: transparent;\n",
              "      border-bottom-color: var(--fill-color);\n",
              "      border-left-color: var(--fill-color);\n",
              "    }\n",
              "    20% {\n",
              "      border-color: transparent;\n",
              "      border-left-color: var(--fill-color);\n",
              "      border-top-color: var(--fill-color);\n",
              "    }\n",
              "    30% {\n",
              "      border-color: transparent;\n",
              "      border-left-color: var(--fill-color);\n",
              "      border-top-color: var(--fill-color);\n",
              "      border-right-color: var(--fill-color);\n",
              "    }\n",
              "    40% {\n",
              "      border-color: transparent;\n",
              "      border-right-color: var(--fill-color);\n",
              "      border-top-color: var(--fill-color);\n",
              "    }\n",
              "    60% {\n",
              "      border-color: transparent;\n",
              "      border-right-color: var(--fill-color);\n",
              "    }\n",
              "    80% {\n",
              "      border-color: transparent;\n",
              "      border-right-color: var(--fill-color);\n",
              "      border-bottom-color: var(--fill-color);\n",
              "    }\n",
              "    90% {\n",
              "      border-color: transparent;\n",
              "      border-bottom-color: var(--fill-color);\n",
              "    }\n",
              "  }\n",
              "</style>\n",
              "\n",
              "  <script>\n",
              "    async function quickchart(key) {\n",
              "      const quickchartButtonEl =\n",
              "        document.querySelector('#' + key + ' button');\n",
              "      quickchartButtonEl.disabled = true;  // To prevent multiple clicks.\n",
              "      quickchartButtonEl.classList.add('colab-df-spinner');\n",
              "      try {\n",
              "        const charts = await google.colab.kernel.invokeFunction(\n",
              "            'suggestCharts', [key], {});\n",
              "      } catch (error) {\n",
              "        console.error('Error during call to suggestCharts:', error);\n",
              "      }\n",
              "      quickchartButtonEl.classList.remove('colab-df-spinner');\n",
              "      quickchartButtonEl.classList.add('colab-df-quickchart-complete');\n",
              "    }\n",
              "    (() => {\n",
              "      let quickchartButtonEl =\n",
              "        document.querySelector('#df-b02a0f7d-7d07-4c8d-a997-9c573a3ed780 button');\n",
              "      quickchartButtonEl.style.display =\n",
              "        google.colab.kernel.accessAllowed ? 'block' : 'none';\n",
              "    })();\n",
              "  </script>\n",
              "</div>\n",
              "\n",
              "    </div>\n",
              "  </div>\n"
            ],
            "application/vnd.google.colaboratory.intrinsic+json": {
              "type": "dataframe",
              "summary": "{\n  \"name\": \"df[['name','mean']]\",\n  \"rows\": 3,\n  \"fields\": [\n    {\n      \"column\": \"name\",\n      \"properties\": {\n        \"dtype\": \"string\",\n        \"num_unique_values\": 3,\n        \"samples\": [\n          \"Alice\",\n          \"Bob\",\n          \"David\"\n        ],\n        \"semantic_type\": \"\",\n        \"description\": \"\"\n      }\n    },\n    {\n      \"column\": \"mean\",\n      \"properties\": {\n        \"dtype\": \"number\",\n        \"std\": 0.0,\n        \"min\": 61.666666666666664,\n        \"max\": 61.666666666666664,\n        \"num_unique_values\": 1,\n        \"samples\": [\n          61.666666666666664\n        ],\n        \"semantic_type\": \"\",\n        \"description\": \"\"\n      }\n    }\n  ]\n}"
            }
          },
          "metadata": {},
          "execution_count": 58
        }
      ]
    },
    {
      "cell_type": "code",
      "source": [
        "import pandas as pd\n",
        "\n",
        "data = pd.read_csv('./titanic.csv')\n",
        "data\n",
        "data.loc[data['Age']<35,\"Name\"]\n",
        "data.loc[data['Pclass'].isin([2,3]),\"Name\"]\n",
        "data.loc[(data['Pclass'] == 2) | (data['Pclass'] == 3), \"Name\"]"
      ],
      "metadata": {
        "colab": {
          "base_uri": "https://localhost:8080/"
        },
        "id": "_gKJpGcPF6oB",
        "outputId": "81b99720-74c7-4429-fc5f-15e358250e6e"
      },
      "execution_count": null,
      "outputs": [
        {
          "output_type": "execute_result",
          "data": {
            "text/plain": [
              "0                       Braund, Mr. Owen Harris\n",
              "2                        Heikkinen, Miss. Laina\n",
              "4                      Allen, Mr. William Henry\n",
              "5                              Moran, Mr. James\n",
              "7                Palsson, Master. Gosta Leonard\n",
              "                         ...                   \n",
              "884                      Sutehall, Mr. Henry Jr\n",
              "885        Rice, Mrs. William (Margaret Norton)\n",
              "886                       Montvila, Rev. Juozas\n",
              "888    Johnston, Miss. Catherine Helen \"Carrie\"\n",
              "890                         Dooley, Mr. Patrick\n",
              "Name: Name, Length: 675, dtype: object"
            ]
          },
          "metadata": {},
          "execution_count": 92
        }
      ]
    },
    {
      "cell_type": "code",
      "source": [
        "#matplotlib\n",
        "!pip install matplotlib"
      ],
      "metadata": {
        "colab": {
          "base_uri": "https://localhost:8080/"
        },
        "id": "QFf6tQ6MM3oK",
        "outputId": "1e777126-e925-4687-a5f4-8548917cc25a"
      },
      "execution_count": null,
      "outputs": [
        {
          "output_type": "stream",
          "name": "stdout",
          "text": [
            "Requirement already satisfied: matplotlib in /usr/local/lib/python3.10/dist-packages (3.7.1)\n",
            "Requirement already satisfied: contourpy>=1.0.1 in /usr/local/lib/python3.10/dist-packages (from matplotlib) (1.2.1)\n",
            "Requirement already satisfied: cycler>=0.10 in /usr/local/lib/python3.10/dist-packages (from matplotlib) (0.12.1)\n",
            "Requirement already satisfied: fonttools>=4.22.0 in /usr/local/lib/python3.10/dist-packages (from matplotlib) (4.51.0)\n",
            "Requirement already satisfied: kiwisolver>=1.0.1 in /usr/local/lib/python3.10/dist-packages (from matplotlib) (1.4.5)\n",
            "Requirement already satisfied: numpy>=1.20 in /usr/local/lib/python3.10/dist-packages (from matplotlib) (1.25.2)\n",
            "Requirement already satisfied: packaging>=20.0 in /usr/local/lib/python3.10/dist-packages (from matplotlib) (24.0)\n",
            "Requirement already satisfied: pillow>=6.2.0 in /usr/local/lib/python3.10/dist-packages (from matplotlib) (9.4.0)\n",
            "Requirement already satisfied: pyparsing>=2.3.1 in /usr/local/lib/python3.10/dist-packages (from matplotlib) (3.1.2)\n",
            "Requirement already satisfied: python-dateutil>=2.7 in /usr/local/lib/python3.10/dist-packages (from matplotlib) (2.8.2)\n",
            "Requirement already satisfied: six>=1.5 in /usr/local/lib/python3.10/dist-packages (from python-dateutil>=2.7->matplotlib) (1.16.0)\n"
          ]
        }
      ]
    },
    {
      "cell_type": "code",
      "source": [
        "import matplotlib.pyplot as plt\n",
        "x = [1,2,3,4,5,6]\n",
        "y =[2,4,1,5,7,3]\n",
        "plt.plot(x,y)\n",
        "plt.title(\"This is a graph\")\n",
        "plt.xlabel(\"Numbers\")\n",
        "plt.ylabel(\"Value\")"
      ],
      "metadata": {
        "colab": {
          "base_uri": "https://localhost:8080/",
          "height": 489
        },
        "id": "yrEwdwypNLIt",
        "outputId": "bca11401-3002-4c49-94e0-87644dc2c601"
      },
      "execution_count": null,
      "outputs": [
        {
          "output_type": "execute_result",
          "data": {
            "text/plain": [
              "Text(0, 0.5, 'Value')"
            ]
          },
          "metadata": {},
          "execution_count": 88
        },
        {
          "output_type": "display_data",
          "data": {
            "text/plain": [
              "<Figure size 640x480 with 1 Axes>"
            ],
            "image/png": "[encoded data removed]"
          },
          "metadata": {}
        }
      ]
    },
    {
      "cell_type": "code",
      "source": [
        "import matplotlib.pyplot as plt\n",
        "x = [1,2,3,4,5,6]\n",
        "y =[2,4,1,5,7,3]\n",
        "plt.scatter(x,y)"
      ],
      "metadata": {
        "colab": {
          "base_uri": "https://localhost:8080/",
          "height": 447
        },
        "id": "Yz_vNdzLNduP",
        "outputId": "b673b2b8-7860-4309-a9cb-a4e228c0f997"
      },
      "execution_count": null,
      "outputs": [
        {
          "output_type": "execute_result",
          "data": {
            "text/plain": [
              "<matplotlib.collections.PathCollection at 0x79b436d7ea70>"
            ]
          },
          "metadata": {},
          "execution_count": 83
        },
        {
          "output_type": "display_data",
          "data": {
            "text/plain": [
              "<Figure size 640x480 with 1 Axes>"
            ],
            "image/png": "[encoded data removed]"
          },
          "metadata": {}
        }
      ]
    },
    {
      "cell_type": "code",
      "source": [
        "# https://pandas.pydata.org/pandas-docs/stable/getting_started/intro_tutorials/04_plotting.html\n",
        "\n",
        "import pandas as pd\n",
        "import matplotlib.pyplot as plt\n",
        "\n",
        "\n",
        "data = pd.read_csv(\"air_quality.csv\",index_col=0)\n",
        "plt.figure(figsize=(15,6))\n",
        "data['station_antwerp'].plot()\n"
      ],
      "metadata": {
        "colab": {
          "base_uri": "https://localhost:8080/",
          "height": 506
        },
        "id": "ewyLGPwB2k56",
        "outputId": "d26e8ff0-18c1-4a36-d630-a70fe4b755b1"
      },
      "execution_count": null,
      "outputs": [
        {
          "output_type": "execute_result",
          "data": {
            "text/plain": [
              "<Axes: xlabel='datetime'>"
            ]
          },
          "metadata": {},
          "execution_count": 42
        },
        {
          "output_type": "display_data",
          "data": {
            "text/plain": [
              "<Figure size 1500x600 with 1 Axes>"
            ],
            "image/png": "[encoded data removed]"
          },
          "metadata": {}
        }
      ]
    },
    {
      "cell_type": "code",
      "source": [
        "#web application\n",
        "#client -> server request\n",
        "#what is framwork?\n",
        "#python Frame works - flask, django, streamlit"
      ],
      "metadata": {
        "id": "cUyytKKsHRyD"
      },
      "execution_count": null,
      "outputs": []
    },
    {
      "cell_type": "code",
      "source": [
        "def fun(n):\n",
        "  if n == 1:\n",
        "    return 1\n",
        "  return n + fun(n-1)\n",
        "\n",
        "print(fun(2))"
      ],
      "metadata": {
        "colab": {
          "base_uri": "https://localhost:8080/"
        },
        "id": "78R1apROe-vm",
        "outputId": "e024e56a-b1b3-4c21-c6bd-653bb07ee79a"
      },
      "execution_count": null,
      "outputs": [
        {
          "output_type": "stream",
          "name": "stdout",
          "text": [
            "3\n"
          ]
        }
      ]
    }
  ]
}